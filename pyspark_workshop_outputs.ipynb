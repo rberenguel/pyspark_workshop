{
 "cells": [
  {
   "cell_type": "markdown",
   "metadata": {},
   "source": [
    "---\n",
    "\n",
    "<div style=\"float: right;margin-right: 1em; margin-bottom: 3em;\">\n",
    "<a href=\"https://pybcn.org\">\n",
    "   <img src=\"Images/pybcn.png\" width=50>\n",
    "</a>\n",
    "    \n",
    "<a href=\"https://engineering.affectv.com\">\n",
    "    <img src=\"Images/affectv.png\" width=100 style=\"margin-top: 1em;\">\n",
    "</a>\n",
    "</div>\n",
    "\n",
    "# The Magic of **Py**Spark\n",
    "\n",
    "### _An introduction to PySpark_\n",
    "\n",
    "&nbsp;\n",
    "\n",
    "---"
   ]
  },
  {
   "cell_type": "markdown",
   "metadata": {},
   "source": [
    "You only need to do the following if you are running in Binder (or have not downloaded the soccer dataset). This is around 5MB"
   ]
  },
  {
   "cell_type": "code",
   "execution_count": 1,
   "metadata": {},
   "outputs": [],
   "source": [
    "import urllib.request\n",
    "url = \"https://projects.fivethirtyeight.com/soccer-api/club/spi_matches.csv\"\n",
    "data = urllib.request.urlopen(url).read()\n",
    "\n",
    "with open(\"spi_matches.csv\", \"wb\") as f:\n",
    "    f.write(data)"
   ]
  },
  {
   "cell_type": "markdown",
   "metadata": {},
   "source": [
    "# Creating a `SparkSession` and loading some data"
   ]
  },
  {
   "cell_type": "markdown",
   "metadata": {},
   "source": [
    "The first step is to create a `SparkSession` object we can interact with. It is customary to call it `spark`"
   ]
  },
  {
   "cell_type": "code",
   "execution_count": 2,
   "metadata": {},
   "outputs": [],
   "source": [
    "from pyspark.sql import SparkSession\n",
    "\n",
    "spark = SparkSession.builder.getOrCreate()"
   ]
  },
  {
   "cell_type": "markdown",
   "metadata": {},
   "source": [
    "Since the dataset is in the local filesystem, **we need to load it**. Not only Spark comes with many different types of loaders, but also handles parallelisation: if our dataset was stored in a distributed store (like HDFS or S3), each worker would fetch only a piece of the data.\n",
    "\n",
    "You can pass additional `option` to readers, in this case I know this CSV file comes with headers, hence I want the reader to handle the first row differently. We could also pass a different delimiter (like tabs, or pipes) or what to do with quotes. Check the documentation of each reader to know what options are available, there are many!\n",
    "\n",
    "*NOTE*: when loading distributed CSVs, each CSV file should come with the header. Also note that CSV is a horrible format to use!\n",
    "\n",
    "*TIP*: [other loaders](https://spark.apache.org/docs/latest/sql-data-sources.html) (or, datasources as they are known in Spark) have pretty straightforward names, like [`.parquet()`](https://spark.apache.org/docs/latest/sql-data-sources-parquet.html) and [`.json()`](https://spark.apache.org/docs/latest/sql-data-sources-json.html) (the latter expects one-json-per-line)"
   ]
  },
  {
   "cell_type": "code",
   "execution_count": 3,
   "metadata": {},
   "outputs": [],
   "source": [
    "dataframe = spark.read.option(\"header\", True).csv(\"spi_matches.csv\")"
   ]
  },
  {
   "cell_type": "markdown",
   "metadata": {},
   "source": [
    "We don't know much about this file aside from it being CSV. First we can do is to check what the columns are named. The advantage of reading with the read method is that all will come tagged with names, a disadvantage may be the types: everything will show as `string`"
   ]
  },
  {
   "cell_type": "code",
   "execution_count": 4,
   "metadata": {},
   "outputs": [
    {
     "name": "stdout",
     "output_type": "stream",
     "text": [
      "root\n",
      " |-- date: string (nullable = true)\n",
      " |-- league_id: string (nullable = true)\n",
      " |-- league: string (nullable = true)\n",
      " |-- team1: string (nullable = true)\n",
      " |-- team2: string (nullable = true)\n",
      " |-- spi1: string (nullable = true)\n",
      " |-- spi2: string (nullable = true)\n",
      " |-- prob1: string (nullable = true)\n",
      " |-- prob2: string (nullable = true)\n",
      " |-- probtie: string (nullable = true)\n",
      " |-- proj_score1: string (nullable = true)\n",
      " |-- proj_score2: string (nullable = true)\n",
      " |-- importance1: string (nullable = true)\n",
      " |-- importance2: string (nullable = true)\n",
      " |-- score1: string (nullable = true)\n",
      " |-- score2: string (nullable = true)\n",
      " |-- xg1: string (nullable = true)\n",
      " |-- xg2: string (nullable = true)\n",
      " |-- nsxg1: string (nullable = true)\n",
      " |-- nsxg2: string (nullable = true)\n",
      " |-- adj_score1: string (nullable = true)\n",
      " |-- adj_score2: string (nullable = true)\n",
      "\n"
     ]
    }
   ],
   "source": [
    "dataframe.printSchema()"
   ]
  },
  {
   "cell_type": "markdown",
   "metadata": {},
   "source": [
    "Now, we may want to see how the data looks like. In general you would use the [`show`](https://spark.apache.org/docs/2.4.4/api/python/pyspark.sql.html#pyspark.sql.DataFrame.show) method on a dataframe, which is similar to Pandas'. We can also use [`describe`](https://spark.apache.org/docs/2.4.4/api/python/pyspark.sql.html#pyspark.sql.DataFrame.describe) to compute some statistics per column"
   ]
  },
  {
   "cell_type": "code",
   "execution_count": 5,
   "metadata": {},
   "outputs": [
    {
     "name": "stdout",
     "output_type": "stream",
     "text": [
      "+----------+---------+--------------------+--------------+--------------------+-----+-----+------+------+-------+-----------+-----------+-----------+-----------+------+------+----+----+-----+-----+----------+----------+\n",
      "|      date|league_id|              league|         team1|               team2| spi1| spi2| prob1| prob2|probtie|proj_score1|proj_score2|importance1|importance2|score1|score2| xg1| xg2|nsxg1|nsxg2|adj_score1|adj_score2|\n",
      "+----------+---------+--------------------+--------------+--------------------+-----+-----+------+------+-------+-----------+-----------+-----------+-----------+------+------+----+----+-----+-----+----------+----------+\n",
      "|2016-08-12|     1843|      French Ligue 1|        Bastia| Paris Saint-Germain|51.16|85.68|0.0463| 0.838| 0.1157|       0.91|       2.36|       32.4|       67.7|     0|     1|0.97|0.63| 0.43| 0.45|       0.0|      1.05|\n",
      "|2016-08-12|     1843|      French Ligue 1|     AS Monaco|            Guingamp|68.85|56.48|0.5714|0.1669| 0.2617|       1.82|       0.86|       53.7|       22.9|     2|     2|2.45|0.77| 1.75| 0.42|       2.1|       2.1|\n",
      "|2016-08-13|     2411|Barclays Premier ...|     Hull City|      Leicester City|53.57|66.81|0.3459|0.3621| 0.2921|       1.16|       1.24|       38.1|       22.2|     2|     1|0.85|2.77| 0.17| 1.25|       2.1|      1.05|\n",
      "|2016-08-13|     2411|Barclays Premier ...|Crystal Palace|West Bromwich Albion|55.19|58.66|0.4214|0.2939| 0.2847|       1.35|       1.14|       43.6|       34.6|     0|     1|1.11|0.68| 0.84|  1.6|       0.0|      1.05|\n",
      "|2016-08-13|     2411|Barclays Premier ...|       Everton|   Tottenham Hotspur|68.02|73.25| 0.391|0.3401| 0.2689|       1.47|       1.38|       31.9|       48.0|     1|     1|0.73|1.11| 0.88| 1.81|      1.05|      1.05|\n",
      "+----------+---------+--------------------+--------------+--------------------+-----+-----+------+------+-------+-----------+-----------+-----------+-----------+------+------+----+----+-----+-----+----------+----------+\n",
      "only showing top 5 rows\n",
      "\n"
     ]
    }
   ],
   "source": [
    "dataframe.show(5)"
   ]
  },
  {
   "cell_type": "code",
   "execution_count": 6,
   "metadata": {
    "scrolled": true
   },
   "outputs": [
    {
     "name": "stdout",
     "output_type": "stream",
     "text": [
      "+-------+----------+------------------+--------------------+--------------------+--------------------+------------------+------------------+-------------------+-------------------+-------------------+-------------------+------------------+------------------+------------------+------------------+------------------+------------------+------------------+------------------+------------------+------------------+------------------+\n",
      "|summary|      date|         league_id|              league|               team1|               team2|              spi1|              spi2|              prob1|              prob2|            probtie|        proj_score1|       proj_score2|       importance1|       importance2|            score1|            score2|               xg1|               xg2|             nsxg1|             nsxg2|        adj_score1|        adj_score2|\n",
      "+-------+----------+------------------+--------------------+--------------------+--------------------+------------------+------------------+-------------------+-------------------+-------------------+-------------------+------------------+------------------+------------------+------------------+------------------+------------------+------------------+------------------+------------------+------------------+------------------+\n",
      "|  count|     32278|             32278|               32278|               32278|               32278|             32278|             32278|              32278|              32278|              32278|              32278|             32278|             22879|             22879|             27110|             27110|             14862|             14862|             14862|             14862|             14862|             14862|\n",
      "|   mean|      null|2135.2611376169525|                null|                null|                null|45.057621290043116| 45.00473387446556|0.45252621599851417|0.29433712745523233|0.25313681145052325| 1.5276417374062772|1.1553810645021452|31.224022028934705|30.569325582411956| 1.534599778679454|1.1697897454813722|1.5022036065132511|1.1526476921006596|1.4166525366706926|1.1300760328354167|1.5511344368185846|1.1759339254473595|\n",
      "| stddev|      null| 707.2121193006755|                null|                null|                null|19.014378327516138|19.002673296934606|0.15883213194046925|0.14276086181866288|0.04792038887702526|0.43092039210391403|0.4236099214142011| 25.95679597606345|25.626335212362576|1.2840234125890488|1.1336173366470295|0.8287987311645352|0.7233684315159683|0.6544151377980116|0.5678107947069648|1.2500128274261497| 1.121751984221571|\n",
      "|    min|2016-08-12|              1818|Argentina Primera...|1. FC Heidenheim ...|1. FC Heidenheim ...|              10.0|              10.0|             0.0271|             0.0032|                0.0|               0.25|               0.2|               0.0|               0.0|                 0|                 0|               0.0|               0.0|               0.0|               0.0|               0.0|               0.0|\n",
      "|    max|2020-05-24|              5641|United Soccer League|       Östersunds FK|       Östersunds FK|             96.57|             96.78|             0.9775|             0.8992|             0.4537|                4.9|              4.01|              99.9|              99.9|                 9|                 9|              7.07|               6.2|              6.58|              5.92|              9.15|              7.93|\n",
      "+-------+----------+------------------+--------------------+--------------------+--------------------+------------------+------------------+-------------------+-------------------+-------------------+-------------------+------------------+------------------+------------------+------------------+------------------+------------------+------------------+------------------+------------------+------------------+------------------+\n",
      "\n"
     ]
    }
   ],
   "source": [
    "dataframe.describe().show(5)"
   ]
  },
  {
   "cell_type": "markdown",
   "metadata": {},
   "source": [
    "You may have noticed that the second operation (`describe().show()`) was slower. Why was that? Spark operations are split in _actions_ and _transformations_. \n",
    "- *Transformations*: \"explain\" or \"define\" an operation. When you do `desc = df.describe()`, you are just stating _desc should contain the describe operation on df_. That's just a description, and takes essentially zero time: you are not requesting to _see it_ or _store it_ or...\n",
    "- *Actions*: Actions \"require\" something to be done. They show, store, or in some sense, operate (in functional programming you'd call them _effectful_)\n",
    "---"
   ]
  },
  {
   "cell_type": "markdown",
   "metadata": {},
   "source": [
    "And, yes, the output looks a bit horrible `¯\\_(ツ)_/¯`. It is clear though that some of these columns are actually float/double, others are ints and others are indeed strings. And the first looks pretty much a datetime. First step would be to change the types to the correct ones. \n",
    "\n",
    "There are several ways to do this, the easiest one is to just select what we want and cast"
   ]
  },
  {
   "cell_type": "markdown",
   "metadata": {},
   "source": [
    "## Converting column datatypes"
   ]
  },
  {
   "cell_type": "code",
   "execution_count": 7,
   "metadata": {},
   "outputs": [],
   "source": [
    "dataframe_with_1_type = dataframe.select(dataframe[\"league_id\"].cast(\"int\"))\n",
    "dataframe_with_1_other_type = dataframe.select(dataframe[\"xg1\"].cast(\"float\"))"
   ]
  },
  {
   "cell_type": "markdown",
   "metadata": {},
   "source": [
    "In Spark, there are several ways of selecting a column:\n",
    "- by name\n",
    "like `select(\"columnName\")` or `select(col(\"columnName\"))`\n",
    "- by \"named reference\"\n",
    "like `select(dataframe.columnName)` or `select(dataframe[\"columnName\"]`\n",
    "- _if you were using Scala you'd have two more_\n",
    "\n",
    "The first is more generic: it is referencing _a_ column with that name, but _not necessarily in a specific dataframe_. This distinction can be important in some machine learning algorithms, where additional metadata is added _to a column IN a dataframe_. "
   ]
  },
  {
   "cell_type": "code",
   "execution_count": 8,
   "metadata": {},
   "outputs": [
    {
     "name": "stdout",
     "output_type": "stream",
     "text": [
      "root\n",
      " |-- league_id: integer (nullable = true)\n",
      "\n",
      "+---------+\n",
      "|league_id|\n",
      "+---------+\n",
      "|     1843|\n",
      "|     1843|\n",
      "|     2411|\n",
      "|     2411|\n",
      "|     2411|\n",
      "+---------+\n",
      "only showing top 5 rows\n",
      "\n"
     ]
    }
   ],
   "source": [
    "dataframe_with_1_type.printSchema()\n",
    "dataframe_with_1_type.show(5)"
   ]
  },
  {
   "cell_type": "code",
   "execution_count": 9,
   "metadata": {},
   "outputs": [
    {
     "name": "stdout",
     "output_type": "stream",
     "text": [
      "root\n",
      " |-- xg1: float (nullable = true)\n",
      "\n",
      "+----+\n",
      "| xg1|\n",
      "+----+\n",
      "|0.97|\n",
      "|2.45|\n",
      "|0.85|\n",
      "|1.11|\n",
      "|0.73|\n",
      "+----+\n",
      "only showing top 5 rows\n",
      "\n"
     ]
    }
   ],
   "source": [
    "dataframe_with_1_other_type.printSchema()\n",
    "dataframe_with_1_other_type.show(5)"
   ]
  },
  {
   "cell_type": "markdown",
   "metadata": {},
   "source": [
    "What would happen if we messed up with the types…?"
   ]
  },
  {
   "cell_type": "code",
   "execution_count": 10,
   "metadata": {},
   "outputs": [
    {
     "name": "stdout",
     "output_type": "stream",
     "text": [
      "root\n",
      " |-- xg1: integer (nullable = true)\n",
      "\n",
      "+---+\n",
      "|xg1|\n",
      "+---+\n",
      "|  0|\n",
      "|  2|\n",
      "|  0|\n",
      "|  1|\n",
      "|  0|\n",
      "+---+\n",
      "only showing top 5 rows\n",
      "\n"
     ]
    }
   ],
   "source": [
    "dataframe_with_wrong_type = dataframe.select(dataframe[\"xg1\"].cast(\"int\"))\n",
    "dataframe_with_wrong_type.printSchema()\n",
    "dataframe_with_wrong_type.show(5)"
   ]
  },
  {
   "cell_type": "markdown",
   "metadata": {},
   "source": [
    "In general, for types offering it, casting will either truncate or convert. So, going from _should be a float_ to `int` will just round. This won't be the case for types not offering it though, the conversion will be _really bad_."
   ]
  },
  {
   "cell_type": "code",
   "execution_count": 11,
   "metadata": {},
   "outputs": [
    {
     "name": "stdout",
     "output_type": "stream",
     "text": [
      "root\n",
      " |-- league: integer (nullable = true)\n",
      "\n",
      "+------+\n",
      "|league|\n",
      "+------+\n",
      "|  null|\n",
      "|  null|\n",
      "|  null|\n",
      "|  null|\n",
      "|  null|\n",
      "+------+\n",
      "only showing top 5 rows\n",
      "\n"
     ]
    }
   ],
   "source": [
    "dataframe_with_very_wrong_type = dataframe.select(dataframe[\"league\"].cast(\"int\"))\n",
    "dataframe_with_very_wrong_type.printSchema()\n",
    "dataframe_with_very_wrong_type.show(5)"
   ]
  },
  {
   "cell_type": "markdown",
   "metadata": {},
   "source": [
    "Note that using strings is error prone: what if you typed `cast(\"fioat\")`? It is better to use the built in type objects"
   ]
  },
  {
   "cell_type": "code",
   "execution_count": 12,
   "metadata": {},
   "outputs": [
    {
     "name": "stdout",
     "output_type": "stream",
     "text": [
      "root\n",
      " |-- league_id: integer (nullable = true)\n",
      "\n",
      "+---------+\n",
      "|league_id|\n",
      "+---------+\n",
      "|     1843|\n",
      "|     1843|\n",
      "|     2411|\n",
      "|     2411|\n",
      "|     2411|\n",
      "+---------+\n",
      "only showing top 5 rows\n",
      "\n"
     ]
    }
   ],
   "source": [
    "from pyspark.sql.types import FloatType, IntegerType, StringType, DateType\n",
    "\n",
    "dataframe_with_1_type_2 = dataframe.select(dataframe[\"league_id\"].cast(IntegerType()))\n",
    "dataframe_with_1_type_2.printSchema()\n",
    "dataframe_with_1_type_2.show(5)"
   ]
  },
  {
   "cell_type": "markdown",
   "metadata": {},
   "source": [
    "Now, we don't really need all columns from this dataframe, but only the following:\n",
    "\n",
    "- date\n",
    "- league\n",
    "- team1\n",
    "- team2 \n",
    "- score1\n",
    "- score2\n",
    "\n",
    "We can select on a list, as easily as `select(col_1, col_2)`, and we'd also like to convert to the correct types on the go. Shouldn't be hard in Python"
   ]
  },
  {
   "cell_type": "code",
   "execution_count": 13,
   "metadata": {},
   "outputs": [],
   "source": [
    "conv = {\n",
    "    \"date\": DateType(),\n",
    "    \"league\": StringType(),\n",
    "    \"team1\": StringType(),\n",
    "    \"team2\": StringType(),\n",
    "    \"score1\": IntegerType(),\n",
    "    \"score2\": IntegerType(),\n",
    "}\n",
    "\n",
    "selection = [dataframe[k].cast(v) for k, v in conv.items()]\n",
    "\n",
    "df = dataframe.select(*selection)  # reminder: *list unpacks a list"
   ]
  },
  {
   "cell_type": "code",
   "execution_count": 14,
   "metadata": {
    "scrolled": true
   },
   "outputs": [
    {
     "name": "stdout",
     "output_type": "stream",
     "text": [
      "root\n",
      " |-- date: date (nullable = true)\n",
      " |-- league: string (nullable = true)\n",
      " |-- team1: string (nullable = true)\n",
      " |-- team2: string (nullable = true)\n",
      " |-- score1: integer (nullable = true)\n",
      " |-- score2: integer (nullable = true)\n",
      "\n",
      "+----------+--------------------+--------------+--------------------+------+------+\n",
      "|      date|              league|         team1|               team2|score1|score2|\n",
      "+----------+--------------------+--------------+--------------------+------+------+\n",
      "|2016-08-12|      French Ligue 1|        Bastia| Paris Saint-Germain|     0|     1|\n",
      "|2016-08-12|      French Ligue 1|     AS Monaco|            Guingamp|     2|     2|\n",
      "|2016-08-13|Barclays Premier ...|     Hull City|      Leicester City|     2|     1|\n",
      "|2016-08-13|Barclays Premier ...|Crystal Palace|West Bromwich Albion|     0|     1|\n",
      "|2016-08-13|Barclays Premier ...|       Everton|   Tottenham Hotspur|     1|     1|\n",
      "+----------+--------------------+--------------+--------------------+------+------+\n",
      "only showing top 5 rows\n",
      "\n",
      "+-------+--------------------+--------------------+--------------------+------------------+------------------+\n",
      "|summary|              league|               team1|               team2|            score1|            score2|\n",
      "+-------+--------------------+--------------------+--------------------+------------------+------------------+\n",
      "|  count|               32278|               32278|               32278|             27110|             27110|\n",
      "|   mean|                null|                null|                null| 1.534599778679454|1.1697897454813722|\n",
      "| stddev|                null|                null|                null|1.2840234125890488|1.1336173366470295|\n",
      "|    min|Argentina Primera...|1. FC Heidenheim ...|1. FC Heidenheim ...|                 0|                 0|\n",
      "|    max|United Soccer League|       Östersunds FK|       Östersunds FK|                10|                 9|\n",
      "+-------+--------------------+--------------------+--------------------+------------------+------------------+\n",
      "\n"
     ]
    }
   ],
   "source": [
    "df.printSchema()\n",
    "df.show(5)\n",
    "df.describe().show()"
   ]
  },
  {
   "cell_type": "markdown",
   "metadata": {},
   "source": [
    "*Note*: we could have used the `inferSchema` setting in the CSV loader, though. But:\n",
    "- We wouldn't have an excuse to explain how to manually type columns\n",
    "- It makes _two_ passes on the data, which is usually one more than needed\n",
    "- It may still mess up if there is some string lurking"
   ]
  },
  {
   "cell_type": "code",
   "execution_count": 15,
   "metadata": {},
   "outputs": [
    {
     "name": "stdout",
     "output_type": "stream",
     "text": [
      "root\n",
      " |-- date: timestamp (nullable = true)\n",
      " |-- league_id: integer (nullable = true)\n",
      " |-- league: string (nullable = true)\n",
      " |-- team1: string (nullable = true)\n",
      " |-- team2: string (nullable = true)\n",
      " |-- spi1: double (nullable = true)\n",
      " |-- spi2: double (nullable = true)\n",
      " |-- prob1: double (nullable = true)\n",
      " |-- prob2: double (nullable = true)\n",
      " |-- probtie: double (nullable = true)\n",
      " |-- proj_score1: double (nullable = true)\n",
      " |-- proj_score2: double (nullable = true)\n",
      " |-- importance1: double (nullable = true)\n",
      " |-- importance2: double (nullable = true)\n",
      " |-- score1: integer (nullable = true)\n",
      " |-- score2: integer (nullable = true)\n",
      " |-- xg1: double (nullable = true)\n",
      " |-- xg2: double (nullable = true)\n",
      " |-- nsxg1: double (nullable = true)\n",
      " |-- nsxg2: double (nullable = true)\n",
      " |-- adj_score1: double (nullable = true)\n",
      " |-- adj_score2: double (nullable = true)\n",
      "\n"
     ]
    }
   ],
   "source": [
    "dataframe_inferred = spark.read.option(\"header\", True).option(\"inferSchema\", True).csv(\"spi_matches.csv\")\n",
    "dataframe_inferred.printSchema()"
   ]
  },
  {
   "cell_type": "markdown",
   "metadata": {},
   "source": [
    "Now, we may want to filter a specific league, like the Premier League, and count how many matches are there"
   ]
  },
  {
   "cell_type": "markdown",
   "metadata": {},
   "source": [
    "# Operating on data (filtering, transforming, ordering...), SparkSQL"
   ]
  },
  {
   "cell_type": "markdown",
   "metadata": {},
   "source": [
    "You should eventually be familiar, a bit, with what is available in `pyspark.sql.functions`. Even when working in Python, [I check the Scala reference](https://spark.apache.org/docs/2.4.4/api/scala/index.html#org.apache.spark.sql.functions$) instead of the Python one (maybe because I usually work in Scala, though)"
   ]
  },
  {
   "cell_type": "code",
   "execution_count": 16,
   "metadata": {},
   "outputs": [
    {
     "data": {
      "text/plain": [
       "1520"
      ]
     },
     "execution_count": 16,
     "metadata": {},
     "output_type": "execute_result"
    }
   ],
   "source": [
    "from pyspark.sql.functions import col\n",
    "\n",
    "premier = df.where(col(\"league\").contains(\"Barclays\"))\n",
    "premier.count()"
   ]
  },
  {
   "cell_type": "markdown",
   "metadata": {},
   "source": [
    "That's a lot of matches, I'd like to figure out how many years of data we have"
   ]
  },
  {
   "cell_type": "code",
   "execution_count": 17,
   "metadata": {},
   "outputs": [
    {
     "name": "stdout",
     "output_type": "stream",
     "text": [
      "+-------------------+\n",
      "|               year|\n",
      "+-------------------+\n",
      "|2016-01-01 00:00:00|\n",
      "|2017-01-01 00:00:00|\n",
      "|2018-01-01 00:00:00|\n",
      "|2019-01-01 00:00:00|\n",
      "|2020-01-01 00:00:00|\n",
      "+-------------------+\n",
      "\n"
     ]
    }
   ],
   "source": [
    "from pyspark.sql.functions import date_trunc\n",
    "\n",
    "premier.select(date_trunc(\"year\", col(\"date\")).alias(\"year\")).distinct().orderBy(col(\"date\")).show()"
   ]
  },
  {
   "cell_type": "markdown",
   "metadata": {},
   "source": [
    "I have introduced many things here! For one, a function to work on a column, using distinct and ordering. But they should be pretty clear, this looks mostly like SQL, but as functions. Huh, wait... this reminds me..."
   ]
  },
  {
   "cell_type": "code",
   "execution_count": 18,
   "metadata": {},
   "outputs": [
    {
     "name": "stdout",
     "output_type": "stream",
     "text": [
      "+-------------------+\n",
      "|               year|\n",
      "+-------------------+\n",
      "|2016-01-01 00:00:00|\n",
      "|2017-01-01 00:00:00|\n",
      "|2018-01-01 00:00:00|\n",
      "|2019-01-01 00:00:00|\n",
      "|2020-01-01 00:00:00|\n",
      "+-------------------+\n",
      "\n"
     ]
    }
   ],
   "source": [
    "premier.createOrReplaceTempView(\"premier\")\n",
    "\n",
    "spark.sql(\"SELECT DISTINCT date_trunc('year', date) AS year FROM premier ORDER BY year\").show()"
   ]
  },
  {
   "cell_type": "markdown",
   "metadata": {},
   "source": [
    "As you can see, Spark offers **SparkSQL**, allowing you to write your queries in pretty much standard SQL (there are some minor differences) instead of as methods on a dataframe. First you register your tables, then you operate on them\n",
    "\n",
    "*NOTE*: Using methods on a dataframe is a better approach in general, since modularity, testing and specially _parsing_ are important. See next cell"
   ]
  },
  {
   "cell_type": "code",
   "execution_count": 19,
   "metadata": {},
   "outputs": [
    {
     "ename": "ParseException",
     "evalue": "\"\\nmismatched input 'SELCT' expecting {'(', 'SELECT', 'FROM', 'ADD', 'DESC', 'WITH', 'VALUES', 'CREATE', 'TABLE', 'INSERT', 'DELETE', 'DESCRIBE', 'EXPLAIN', 'SHOW', 'USE', 'DROP', 'ALTER', 'MAP', 'SET', 'RESET', 'START', 'COMMIT', 'ROLLBACK', 'REDUCE', 'REFRESH', 'CLEAR', 'CACHE', 'UNCACHE', 'DFS', 'TRUNCATE', 'ANALYZE', 'LIST', 'REVOKE', 'GRANT', 'LOCK', 'UNLOCK', 'MSCK', 'EXPORT', 'IMPORT', 'LOAD'}(line 1, pos 0)\\n\\n== SQL ==\\nSELCT DISTINCT date_trunc('year', date) AS year FROM premier ORDER BY year\\n^^^\\n\"",
     "output_type": "error",
     "traceback": [
      "\u001b[0;31m---------------------------------------------------------------------------\u001b[0m",
      "\u001b[0;31mPy4JJavaError\u001b[0m                             Traceback (most recent call last)",
      "\u001b[0;32m/usr/local/spark/python/pyspark/sql/utils.py\u001b[0m in \u001b[0;36mdeco\u001b[0;34m(*a, **kw)\u001b[0m\n\u001b[1;32m     62\u001b[0m         \u001b[0;32mtry\u001b[0m\u001b[0;34m:\u001b[0m\u001b[0;34m\u001b[0m\u001b[0;34m\u001b[0m\u001b[0m\n\u001b[0;32m---> 63\u001b[0;31m             \u001b[0;32mreturn\u001b[0m \u001b[0mf\u001b[0m\u001b[0;34m(\u001b[0m\u001b[0;34m*\u001b[0m\u001b[0ma\u001b[0m\u001b[0;34m,\u001b[0m \u001b[0;34m**\u001b[0m\u001b[0mkw\u001b[0m\u001b[0;34m)\u001b[0m\u001b[0;34m\u001b[0m\u001b[0;34m\u001b[0m\u001b[0m\n\u001b[0m\u001b[1;32m     64\u001b[0m         \u001b[0;32mexcept\u001b[0m \u001b[0mpy4j\u001b[0m\u001b[0;34m.\u001b[0m\u001b[0mprotocol\u001b[0m\u001b[0;34m.\u001b[0m\u001b[0mPy4JJavaError\u001b[0m \u001b[0;32mas\u001b[0m \u001b[0me\u001b[0m\u001b[0;34m:\u001b[0m\u001b[0;34m\u001b[0m\u001b[0;34m\u001b[0m\u001b[0m\n",
      "\u001b[0;32m/usr/local/spark/python/lib/py4j-0.10.7-src.zip/py4j/protocol.py\u001b[0m in \u001b[0;36mget_return_value\u001b[0;34m(answer, gateway_client, target_id, name)\u001b[0m\n\u001b[1;32m    327\u001b[0m                     \u001b[0;34m\"An error occurred while calling {0}{1}{2}.\\n\"\u001b[0m\u001b[0;34m.\u001b[0m\u001b[0;34m\u001b[0m\u001b[0;34m\u001b[0m\u001b[0m\n\u001b[0;32m--> 328\u001b[0;31m                     format(target_id, \".\", name), value)\n\u001b[0m\u001b[1;32m    329\u001b[0m             \u001b[0;32melse\u001b[0m\u001b[0;34m:\u001b[0m\u001b[0;34m\u001b[0m\u001b[0;34m\u001b[0m\u001b[0m\n",
      "\u001b[0;31mPy4JJavaError\u001b[0m: An error occurred while calling o20.sql.\n: org.apache.spark.sql.catalyst.parser.ParseException: \nmismatched input 'SELCT' expecting {'(', 'SELECT', 'FROM', 'ADD', 'DESC', 'WITH', 'VALUES', 'CREATE', 'TABLE', 'INSERT', 'DELETE', 'DESCRIBE', 'EXPLAIN', 'SHOW', 'USE', 'DROP', 'ALTER', 'MAP', 'SET', 'RESET', 'START', 'COMMIT', 'ROLLBACK', 'REDUCE', 'REFRESH', 'CLEAR', 'CACHE', 'UNCACHE', 'DFS', 'TRUNCATE', 'ANALYZE', 'LIST', 'REVOKE', 'GRANT', 'LOCK', 'UNLOCK', 'MSCK', 'EXPORT', 'IMPORT', 'LOAD'}(line 1, pos 0)\n\n== SQL ==\nSELCT DISTINCT date_trunc('year', date) AS year FROM premier ORDER BY year\n^^^\n\n\tat org.apache.spark.sql.catalyst.parser.ParseException.withCommand(ParseDriver.scala:241)\n\tat org.apache.spark.sql.catalyst.parser.AbstractSqlParser.parse(ParseDriver.scala:117)\n\tat org.apache.spark.sql.execution.SparkSqlParser.parse(SparkSqlParser.scala:48)\n\tat org.apache.spark.sql.catalyst.parser.AbstractSqlParser.parsePlan(ParseDriver.scala:69)\n\tat org.apache.spark.sql.SparkSession.sql(SparkSession.scala:642)\n\tat sun.reflect.NativeMethodAccessorImpl.invoke0(Native Method)\n\tat sun.reflect.NativeMethodAccessorImpl.invoke(NativeMethodAccessorImpl.java:62)\n\tat sun.reflect.DelegatingMethodAccessorImpl.invoke(DelegatingMethodAccessorImpl.java:43)\n\tat java.lang.reflect.Method.invoke(Method.java:498)\n\tat py4j.reflection.MethodInvoker.invoke(MethodInvoker.java:244)\n\tat py4j.reflection.ReflectionEngine.invoke(ReflectionEngine.java:357)\n\tat py4j.Gateway.invoke(Gateway.java:282)\n\tat py4j.commands.AbstractCommand.invokeMethod(AbstractCommand.java:132)\n\tat py4j.commands.CallCommand.execute(CallCommand.java:79)\n\tat py4j.GatewayConnection.run(GatewayConnection.java:238)\n\tat java.lang.Thread.run(Thread.java:748)\n",
      "\nDuring handling of the above exception, another exception occurred:\n",
      "\u001b[0;31mParseException\u001b[0m                            Traceback (most recent call last)",
      "\u001b[0;32m<ipython-input-19-48a5355657ff>\u001b[0m in \u001b[0;36m<module>\u001b[0;34m\u001b[0m\n\u001b[1;32m      1\u001b[0m \u001b[0;31m# try to run this\u001b[0m\u001b[0;34m\u001b[0m\u001b[0;34m\u001b[0m\u001b[0;34m\u001b[0m\u001b[0m\n\u001b[1;32m      2\u001b[0m \u001b[0;34m\u001b[0m\u001b[0m\n\u001b[0;32m----> 3\u001b[0;31m \u001b[0mspark\u001b[0m\u001b[0;34m.\u001b[0m\u001b[0msql\u001b[0m\u001b[0;34m(\u001b[0m\u001b[0;34m\"SELCT DISTINCT date_trunc('year', date) AS year FROM premier ORDER BY year\"\u001b[0m\u001b[0;34m)\u001b[0m\u001b[0;34m.\u001b[0m\u001b[0mshow\u001b[0m\u001b[0;34m(\u001b[0m\u001b[0;34m)\u001b[0m\u001b[0;34m\u001b[0m\u001b[0;34m\u001b[0m\u001b[0m\n\u001b[0m",
      "\u001b[0;32m/usr/local/spark/python/pyspark/sql/session.py\u001b[0m in \u001b[0;36msql\u001b[0;34m(self, sqlQuery)\u001b[0m\n\u001b[1;32m    765\u001b[0m         \u001b[0;34m[\u001b[0m\u001b[0mRow\u001b[0m\u001b[0;34m(\u001b[0m\u001b[0mf1\u001b[0m\u001b[0;34m=\u001b[0m\u001b[0;36m1\u001b[0m\u001b[0;34m,\u001b[0m \u001b[0mf2\u001b[0m\u001b[0;34m=\u001b[0m\u001b[0;34mu'row1'\u001b[0m\u001b[0;34m)\u001b[0m\u001b[0;34m,\u001b[0m \u001b[0mRow\u001b[0m\u001b[0;34m(\u001b[0m\u001b[0mf1\u001b[0m\u001b[0;34m=\u001b[0m\u001b[0;36m2\u001b[0m\u001b[0;34m,\u001b[0m \u001b[0mf2\u001b[0m\u001b[0;34m=\u001b[0m\u001b[0;34mu'row2'\u001b[0m\u001b[0;34m)\u001b[0m\u001b[0;34m,\u001b[0m \u001b[0mRow\u001b[0m\u001b[0;34m(\u001b[0m\u001b[0mf1\u001b[0m\u001b[0;34m=\u001b[0m\u001b[0;36m3\u001b[0m\u001b[0;34m,\u001b[0m \u001b[0mf2\u001b[0m\u001b[0;34m=\u001b[0m\u001b[0;34mu'row3'\u001b[0m\u001b[0;34m)\u001b[0m\u001b[0;34m]\u001b[0m\u001b[0;34m\u001b[0m\u001b[0;34m\u001b[0m\u001b[0m\n\u001b[1;32m    766\u001b[0m         \"\"\"\n\u001b[0;32m--> 767\u001b[0;31m         \u001b[0;32mreturn\u001b[0m \u001b[0mDataFrame\u001b[0m\u001b[0;34m(\u001b[0m\u001b[0mself\u001b[0m\u001b[0;34m.\u001b[0m\u001b[0m_jsparkSession\u001b[0m\u001b[0;34m.\u001b[0m\u001b[0msql\u001b[0m\u001b[0;34m(\u001b[0m\u001b[0msqlQuery\u001b[0m\u001b[0;34m)\u001b[0m\u001b[0;34m,\u001b[0m \u001b[0mself\u001b[0m\u001b[0;34m.\u001b[0m\u001b[0m_wrapped\u001b[0m\u001b[0;34m)\u001b[0m\u001b[0;34m\u001b[0m\u001b[0;34m\u001b[0m\u001b[0m\n\u001b[0m\u001b[1;32m    768\u001b[0m \u001b[0;34m\u001b[0m\u001b[0m\n\u001b[1;32m    769\u001b[0m     \u001b[0;34m@\u001b[0m\u001b[0msince\u001b[0m\u001b[0;34m(\u001b[0m\u001b[0;36m2.0\u001b[0m\u001b[0;34m)\u001b[0m\u001b[0;34m\u001b[0m\u001b[0;34m\u001b[0m\u001b[0m\n",
      "\u001b[0;32m/usr/local/spark/python/lib/py4j-0.10.7-src.zip/py4j/java_gateway.py\u001b[0m in \u001b[0;36m__call__\u001b[0;34m(self, *args)\u001b[0m\n\u001b[1;32m   1255\u001b[0m         \u001b[0manswer\u001b[0m \u001b[0;34m=\u001b[0m \u001b[0mself\u001b[0m\u001b[0;34m.\u001b[0m\u001b[0mgateway_client\u001b[0m\u001b[0;34m.\u001b[0m\u001b[0msend_command\u001b[0m\u001b[0;34m(\u001b[0m\u001b[0mcommand\u001b[0m\u001b[0;34m)\u001b[0m\u001b[0;34m\u001b[0m\u001b[0;34m\u001b[0m\u001b[0m\n\u001b[1;32m   1256\u001b[0m         return_value = get_return_value(\n\u001b[0;32m-> 1257\u001b[0;31m             answer, self.gateway_client, self.target_id, self.name)\n\u001b[0m\u001b[1;32m   1258\u001b[0m \u001b[0;34m\u001b[0m\u001b[0m\n\u001b[1;32m   1259\u001b[0m         \u001b[0;32mfor\u001b[0m \u001b[0mtemp_arg\u001b[0m \u001b[0;32min\u001b[0m \u001b[0mtemp_args\u001b[0m\u001b[0;34m:\u001b[0m\u001b[0;34m\u001b[0m\u001b[0;34m\u001b[0m\u001b[0m\n",
      "\u001b[0;32m/usr/local/spark/python/pyspark/sql/utils.py\u001b[0m in \u001b[0;36mdeco\u001b[0;34m(*a, **kw)\u001b[0m\n\u001b[1;32m     71\u001b[0m                 \u001b[0;32mraise\u001b[0m \u001b[0mAnalysisException\u001b[0m\u001b[0;34m(\u001b[0m\u001b[0ms\u001b[0m\u001b[0;34m.\u001b[0m\u001b[0msplit\u001b[0m\u001b[0;34m(\u001b[0m\u001b[0;34m': '\u001b[0m\u001b[0;34m,\u001b[0m \u001b[0;36m1\u001b[0m\u001b[0;34m)\u001b[0m\u001b[0;34m[\u001b[0m\u001b[0;36m1\u001b[0m\u001b[0;34m]\u001b[0m\u001b[0;34m,\u001b[0m \u001b[0mstackTrace\u001b[0m\u001b[0;34m)\u001b[0m\u001b[0;34m\u001b[0m\u001b[0;34m\u001b[0m\u001b[0m\n\u001b[1;32m     72\u001b[0m             \u001b[0;32mif\u001b[0m \u001b[0ms\u001b[0m\u001b[0;34m.\u001b[0m\u001b[0mstartswith\u001b[0m\u001b[0;34m(\u001b[0m\u001b[0;34m'org.apache.spark.sql.catalyst.parser.ParseException: '\u001b[0m\u001b[0;34m)\u001b[0m\u001b[0;34m:\u001b[0m\u001b[0;34m\u001b[0m\u001b[0;34m\u001b[0m\u001b[0m\n\u001b[0;32m---> 73\u001b[0;31m                 \u001b[0;32mraise\u001b[0m \u001b[0mParseException\u001b[0m\u001b[0;34m(\u001b[0m\u001b[0ms\u001b[0m\u001b[0;34m.\u001b[0m\u001b[0msplit\u001b[0m\u001b[0;34m(\u001b[0m\u001b[0;34m': '\u001b[0m\u001b[0;34m,\u001b[0m \u001b[0;36m1\u001b[0m\u001b[0;34m)\u001b[0m\u001b[0;34m[\u001b[0m\u001b[0;36m1\u001b[0m\u001b[0;34m]\u001b[0m\u001b[0;34m,\u001b[0m \u001b[0mstackTrace\u001b[0m\u001b[0;34m)\u001b[0m\u001b[0;34m\u001b[0m\u001b[0;34m\u001b[0m\u001b[0m\n\u001b[0m\u001b[1;32m     74\u001b[0m             \u001b[0;32mif\u001b[0m \u001b[0ms\u001b[0m\u001b[0;34m.\u001b[0m\u001b[0mstartswith\u001b[0m\u001b[0;34m(\u001b[0m\u001b[0;34m'org.apache.spark.sql.streaming.StreamingQueryException: '\u001b[0m\u001b[0;34m)\u001b[0m\u001b[0;34m:\u001b[0m\u001b[0;34m\u001b[0m\u001b[0;34m\u001b[0m\u001b[0m\n\u001b[1;32m     75\u001b[0m                 \u001b[0;32mraise\u001b[0m \u001b[0mStreamingQueryException\u001b[0m\u001b[0;34m(\u001b[0m\u001b[0ms\u001b[0m\u001b[0;34m.\u001b[0m\u001b[0msplit\u001b[0m\u001b[0;34m(\u001b[0m\u001b[0;34m': '\u001b[0m\u001b[0;34m,\u001b[0m \u001b[0;36m1\u001b[0m\u001b[0;34m)\u001b[0m\u001b[0;34m[\u001b[0m\u001b[0;36m1\u001b[0m\u001b[0;34m]\u001b[0m\u001b[0;34m,\u001b[0m \u001b[0mstackTrace\u001b[0m\u001b[0;34m)\u001b[0m\u001b[0;34m\u001b[0m\u001b[0;34m\u001b[0m\u001b[0m\n",
      "\u001b[0;31mParseException\u001b[0m: \"\\nmismatched input 'SELCT' expecting {'(', 'SELECT', 'FROM', 'ADD', 'DESC', 'WITH', 'VALUES', 'CREATE', 'TABLE', 'INSERT', 'DELETE', 'DESCRIBE', 'EXPLAIN', 'SHOW', 'USE', 'DROP', 'ALTER', 'MAP', 'SET', 'RESET', 'START', 'COMMIT', 'ROLLBACK', 'REDUCE', 'REFRESH', 'CLEAR', 'CACHE', 'UNCACHE', 'DFS', 'TRUNCATE', 'ANALYZE', 'LIST', 'REVOKE', 'GRANT', 'LOCK', 'UNLOCK', 'MSCK', 'EXPORT', 'IMPORT', 'LOAD'}(line 1, pos 0)\\n\\n== SQL ==\\nSELCT DISTINCT date_trunc('year', date) AS year FROM premier ORDER BY year\\n^^^\\n\""
     ]
    }
   ],
   "source": [
    "# try to run this\n",
    "\n",
    "spark.sql(\"SELCT DISTINCT date_trunc('year', date) AS year FROM premier ORDER BY year\").show()"
   ]
  },
  {
   "cell_type": "markdown",
   "metadata": {},
   "source": [
    "It will fail very badly (with a stacktrace from Scala, showing that you referenced a non-existing SQL method). This error should be caught by pylint/mypy/pyflakes or any other Python syntax checker, if you use the methods on a dataframe and write `df.selct` instead of `df.select`"
   ]
  },
  {
   "cell_type": "markdown",
   "metadata": {},
   "source": [
    "If we want to do anything with the data, we don't want matches in the future. Let's check if we can filter them out somehow without needing to know when we downloaded this."
   ]
  },
  {
   "cell_type": "code",
   "execution_count": 21,
   "metadata": {},
   "outputs": [
    {
     "name": "stdout",
     "output_type": "stream",
     "text": [
      "+----------+--------------------+--------------------+-----------------+------+------+\n",
      "|      date|              league|               team1|            team2|score1|score2|\n",
      "+----------+--------------------+--------------------+-----------------+------+------+\n",
      "|2020-01-01|Barclays Premier ...|Brighton and Hove...|          Chelsea|  null|  null|\n",
      "|2020-01-01|Barclays Premier ...|             Burnley|      Aston Villa|  null|  null|\n",
      "|2020-01-01|Barclays Premier ...|             Watford|    Wolverhampton|  null|  null|\n",
      "|2020-01-01|Barclays Premier ...|           Newcastle|   Leicester City|  null|  null|\n",
      "|2020-01-01|Barclays Premier ...|         Southampton|Tottenham Hotspur|  null|  null|\n",
      "+----------+--------------------+--------------------+-----------------+------+------+\n",
      "only showing top 5 rows\n",
      "\n"
     ]
    }
   ],
   "source": [
    "premier.where(\"date_trunc('year', date) = '2020'\").show(5)"
   ]
  },
  {
   "cell_type": "markdown",
   "metadata": {},
   "source": [
    "As you can see, you can use SQL-like expressions in `where` method calls, too. Like above, this should be discouraged, but when exploring data it is faster to type, so it's not that bad. But make sure not to use it in production code!\n",
    "\n",
    "Also, _clearly_ we can remove future matches by searching for null scores"
   ]
  },
  {
   "cell_type": "code",
   "execution_count": 22,
   "metadata": {},
   "outputs": [],
   "source": [
    "current_premier = premier.where(\"score1 is not null\")"
   ]
  },
  {
   "cell_type": "code",
   "execution_count": 23,
   "metadata": {},
   "outputs": [
    {
     "name": "stdout",
     "output_type": "stream",
     "text": [
      "+-------------------+\n",
      "|               year|\n",
      "+-------------------+\n",
      "|2016-01-01 00:00:00|\n",
      "|2017-01-01 00:00:00|\n",
      "|2018-01-01 00:00:00|\n",
      "|2019-01-01 00:00:00|\n",
      "+-------------------+\n",
      "\n"
     ]
    }
   ],
   "source": [
    "current_premier.select(date_trunc(\"year\", col(\"date\")).alias(\"year\")).distinct().orderBy(col(\"date\")).show()"
   ]
  },
  {
   "cell_type": "markdown",
   "metadata": {},
   "source": [
    "_Clearly_ is, in general, not good enough. "
   ]
  },
  {
   "cell_type": "code",
   "execution_count": 24,
   "metadata": {},
   "outputs": [
    {
     "name": "stdout",
     "output_type": "stream",
     "text": [
      "+-------------------+\n",
      "|               year|\n",
      "+-------------------+\n",
      "|2019-01-01 00:00:00|\n",
      "|2020-01-01 00:00:00|\n",
      "+-------------------+\n",
      "\n"
     ]
    }
   ],
   "source": [
    "premier.where(\"score1 is null\")\\\n",
    "       .select(date_trunc(\"year\", col(\"date\")).alias(\"year\")).distinct().orderBy(col(\"date\")).show()"
   ]
  },
  {
   "cell_type": "markdown",
   "metadata": {},
   "source": [
    "Did we find some weird anomaly in the data? How does it look like? Here we use again SQL-where, which is faster to write when exploring data"
   ]
  },
  {
   "cell_type": "code",
   "execution_count": 25,
   "metadata": {},
   "outputs": [
    {
     "name": "stdout",
     "output_type": "stream",
     "text": [
      "+----------+--------------------+--------------------+-----------------+------+------+\n",
      "|      date|              league|               team1|            team2|score1|score2|\n",
      "+----------+--------------------+--------------------+-----------------+------+------+\n",
      "|2019-11-23|Barclays Premier ...|     West Ham United|Tottenham Hotspur|  null|  null|\n",
      "|2019-11-23|Barclays Premier ...|             Everton|     Norwich City|  null|  null|\n",
      "|2019-11-23|Barclays Premier ...|             Arsenal|      Southampton|  null|  null|\n",
      "|2019-11-23|Barclays Premier ...|             Watford|          Burnley|  null|  null|\n",
      "|2019-11-23|Barclays Premier ...|Brighton and Hove...|   Leicester City|  null|  null|\n",
      "+----------+--------------------+--------------------+-----------------+------+------+\n",
      "only showing top 5 rows\n",
      "\n"
     ]
    }
   ],
   "source": [
    "premier.where(\"date_trunc('year', date) = '2019' and score1 is null\").show(5)"
   ]
  },
  {
   "cell_type": "markdown",
   "metadata": {},
   "source": [
    "Oh, of course: `date_trunc` just keeps the year and sets 1st of January. The rest of the current year should have no data, obviously. Let's confirm this:"
   ]
  },
  {
   "cell_type": "code",
   "execution_count": 26,
   "metadata": {},
   "outputs": [
    {
     "name": "stdout",
     "output_type": "stream",
     "text": [
      "+----------+-----+\n",
      "|      date|count|\n",
      "+----------+-----+\n",
      "|2019-11-23|    8|\n",
      "|2019-11-24|    1|\n",
      "|2019-11-25|    1|\n",
      "|2019-11-30|    6|\n",
      "|2019-12-01|    4|\n",
      "|2019-12-03|    2|\n",
      "|2019-12-04|    6|\n",
      "|2019-12-05|    2|\n",
      "|2019-12-07|    5|\n",
      "|2019-12-08|    4|\n",
      "|2019-12-09|    1|\n",
      "|2019-12-14|    6|\n",
      "|2019-12-15|    3|\n",
      "|2019-12-16|    1|\n",
      "|2019-12-21|    8|\n",
      "|2019-12-22|    2|\n",
      "|2019-12-26|    9|\n",
      "|2019-12-27|    1|\n",
      "|2019-12-28|    7|\n",
      "|2019-12-29|    3|\n",
      "+----------+-----+\n",
      "\n"
     ]
    }
   ],
   "source": [
    "premier.where(\"date_trunc('year', date) = '2019' and score1 is null\").groupBy(\"date\").count().orderBy(\"date\").show()"
   ]
  },
  {
   "cell_type": "markdown",
   "metadata": {},
   "source": [
    "Makes sense, actually. If this was part of a data pipeline, this last check should be part of the code, with some business-level validation. For this to make sense, you need to know your data, your data's SLAs, etc: in this case the validation could have been \"no nulls for dates before today\".\n",
    "\n",
    "To be fair, though, this has been a pain of copy pasting, and copy pasting is in general... bad. How would we do this in a function?"
   ]
  },
  {
   "cell_type": "code",
   "execution_count": 27,
   "metadata": {},
   "outputs": [
    {
     "name": "stdout",
     "output_type": "stream",
     "text": [
      "+-------------------+\n",
      "|               year|\n",
      "+-------------------+\n",
      "|2016-01-01 00:00:00|\n",
      "|2017-01-01 00:00:00|\n",
      "|2018-01-01 00:00:00|\n",
      "|2019-01-01 00:00:00|\n",
      "|2020-01-01 00:00:00|\n",
      "+-------------------+\n",
      "\n"
     ]
    }
   ],
   "source": [
    "def years_in_data(dataframe):\n",
    "    return dataframe.select(date_trunc(\"year\", col(\"date\")).alias(\"year\")).distinct().orderBy(col(\"date\"))\n",
    "\n",
    "years_in_data(premier).show()"
   ]
  },
  {
   "cell_type": "markdown",
   "metadata": {},
   "source": [
    "Easy peasy, dataframes are in the end just Python objects we can pass around, manipulate, etc. "
   ]
  },
  {
   "cell_type": "markdown",
   "metadata": {},
   "source": [
    "# Groups, Aggregates, using `explain`\n",
    "\n",
    "Let's do some basic analysis: which team has won more matches in this period?"
   ]
  },
  {
   "cell_type": "code",
   "execution_count": 28,
   "metadata": {},
   "outputs": [],
   "source": [
    "from pyspark.sql.functions import when\n",
    "\n",
    "either_winner = current_premier.select(\"team1\", \n",
    "                                       \"team2\", \n",
    "                                       when(col(\"score1\") > col(\"score2\"), True).otherwise(False).alias(\"win1\"),\n",
    "                                       when(col(\"score2\") > col(\"score1\"), True).otherwise(False).alias(\"win2\"),)"
   ]
  },
  {
   "cell_type": "code",
   "execution_count": 29,
   "metadata": {},
   "outputs": [
    {
     "name": "stdout",
     "output_type": "stream",
     "text": [
      "root\n",
      " |-- team1: string (nullable = true)\n",
      " |-- team2: string (nullable = true)\n",
      " |-- win1: boolean (nullable = false)\n",
      " |-- win2: boolean (nullable = false)\n",
      "\n",
      "+--------------+--------------------+-----+-----+\n",
      "|         team1|               team2| win1| win2|\n",
      "+--------------+--------------------+-----+-----+\n",
      "|     Hull City|      Leicester City| true|false|\n",
      "|Crystal Palace|West Bromwich Albion|false| true|\n",
      "|       Everton|   Tottenham Hotspur|false|false|\n",
      "|       Burnley|        Swansea City|false| true|\n",
      "|   Southampton|             Watford|false|false|\n",
      "+--------------+--------------------+-----+-----+\n",
      "only showing top 5 rows\n",
      "\n"
     ]
    }
   ],
   "source": [
    "either_winner.printSchema()\n",
    "either_winner.show(5)"
   ]
  },
  {
   "cell_type": "code",
   "execution_count": 30,
   "metadata": {},
   "outputs": [],
   "source": [
    "winners = either_winner.where(col(\"win1\") | col(\"win2\"))\\\n",
    "                       .withColumn(\"winner\", \n",
    "                                   when(col(\"win1\"), col(\"team1\")).otherwise(col(\"team2\")))\\\n",
    "                       .drop(\"team1\", \"team2\", \"win1\", \"win2\")"
   ]
  },
  {
   "cell_type": "code",
   "execution_count": 31,
   "metadata": {},
   "outputs": [
    {
     "name": "stdout",
     "output_type": "stream",
     "text": [
      "root\n",
      " |-- winner: string (nullable = true)\n",
      "\n",
      "+--------------------+\n",
      "|              winner|\n",
      "+--------------------+\n",
      "|           Hull City|\n",
      "|West Bromwich Albion|\n",
      "|        Swansea City|\n",
      "|     Manchester City|\n",
      "|   Manchester United|\n",
      "+--------------------+\n",
      "only showing top 5 rows\n",
      "\n"
     ]
    }
   ],
   "source": [
    "winners.printSchema()\n",
    "winners.show(5)"
   ]
  },
  {
   "cell_type": "markdown",
   "metadata": {},
   "source": [
    "This was a lot to digest. The process has been:\n",
    "- Create a boolean column for home win\n",
    "- Create a boolean column for away win\n",
    "- Filter out draws\n",
    "- Pick the winner according to who was the home or away team\n",
    "\n",
    "*Note*: This could have been done just with a `when` query, or using many other options, but I wanted to show a few more operations, also putting everything in a single `when` whould have been unreadable."
   ]
  },
  {
   "cell_type": "code",
   "execution_count": 32,
   "metadata": {},
   "outputs": [],
   "source": [
    "from pyspark.sql.functions import desc\n",
    "\n",
    "best = winners.groupBy(\"winner\").count().orderBy(desc(\"count\"))"
   ]
  },
  {
   "cell_type": "markdown",
   "metadata": {},
   "source": [
    "You may be thinking\n",
    "> I have heard grouping is bad in Spark, because it is very slow.\n",
    "\n",
    "That's not wrong, but is not 100% right either. `groupByKey` is the bad one (on RDDs), because it actually builds the grouped data: that is in general very bad. `groupBy` generates only a logical (\"transformation style\") grouping, when you add an aggregation function (like we did by adding `count`, the generic one would be `.agg(agg_function, column)`) what will happen when an action appears is similar to a `reduceByKey`, in other words, the groups are never created:\n",
    "\n",
    "---\n",
    "\n",
    "#### Differences between `groupByKey` vs `groupBy` (or `reduceByKey`)\n",
    "\n",
    "Imagine we have this dataset: `(a, 1), (b, 2), (a, 12), (a, 13)` and we `groupBy` the first column. This first step would generate a dataset similar to `a: [(a, 1), (a, 12), (a, 13)], b: [(b, 2)]` and would require all data for key `a` to fit in one machine. If we then count, it will count the array length per key, `(a, 3, b, 1)`.\n",
    "\n",
    "`reduceByKey` would be an equivalent way of cheaply aggregating in an RDD setting (first you'd run , and we'd need to offer the `reduce` function, a function that \"does something\" for each element with that key. In this case, it would just be adding 1 per element.\n",
    "\n",
    "But, since you should probably be using Dataframes only, you'd want to use `groupBy`. When you run it, nothing happens (it is a transformation), but when we run `groupBy().count()` (followeded by an action, since counting groups is a transformation as well) the full group will never, ever, appear in memory: each time an element is \"checked\", the counter for the key will be incremented and we will directly get `(a, 3), (b, 1)`.\n",
    "\n",
    "---"
   ]
  },
  {
   "cell_type": "code",
   "execution_count": 33,
   "metadata": {},
   "outputs": [
    {
     "name": "stdout",
     "output_type": "stream",
     "text": [
      "+--------------------+-----+\n",
      "|              winner|count|\n",
      "+--------------------+-----+\n",
      "|     Manchester City|   95|\n",
      "|           Liverpool|   84|\n",
      "|             Chelsea|   80|\n",
      "|   Tottenham Hotspur|   75|\n",
      "|             Arsenal|   67|\n",
      "|   Manchester United|   66|\n",
      "|             Everton|   49|\n",
      "|      Leicester City|   47|\n",
      "|      Crystal Palace|   41|\n",
      "|     West Ham United|   40|\n",
      "|             Burnley|   40|\n",
      "|     AFC Bournemouth|   40|\n",
      "|             Watford|   37|\n",
      "|         Southampton|   30|\n",
      "|           Newcastle|   28|\n",
      "|Brighton and Hove...|   22|\n",
      "|        Swansea City|   20|\n",
      "|       Wolverhampton|   19|\n",
      "|          Stoke City|   18|\n",
      "|West Bromwich Albion|   18|\n",
      "+--------------------+-----+\n",
      "only showing top 20 rows\n",
      "\n"
     ]
    }
   ],
   "source": [
    "best.show()"
   ]
  },
  {
   "cell_type": "markdown",
   "metadata": {},
   "source": [
    "This `show` took longer than the others, what is going on? To figure it out we can use `explain` (and some other methods)"
   ]
  },
  {
   "cell_type": "code",
   "execution_count": 34,
   "metadata": {},
   "outputs": [
    {
     "name": "stdout",
     "output_type": "stream",
     "text": [
      "== Physical Plan ==\n",
      "*(3) Sort [count#2219L DESC NULLS LAST], true, 0\n",
      "+- Exchange rangepartitioning(count#2219L DESC NULLS LAST, 200)\n",
      "   +- *(2) HashAggregate(keys=[winner#2201], functions=[count(1)])\n",
      "      +- Exchange hashpartitioning(winner#2201, 200)\n",
      "         +- *(1) HashAggregate(keys=[winner#2201], functions=[partial_count(1)])\n",
      "            +- *(1) Project [CASE WHEN CASE WHEN (cast(score1#24 as int) > cast(score2#25 as int)) THEN true ELSE false END THEN team1#13 ELSE team2#14 END AS winner#2201]\n",
      "               +- *(1) Filter ((((isnotnull(score1#24) && isnotnull(league#12)) && Contains(league#12, Barclays)) && isnotnull(cast(score1#24 as int))) && (CASE WHEN (cast(score1#24 as int) > cast(score2#25 as int)) THEN true ELSE false END || CASE WHEN (cast(score2#25 as int) > cast(score1#24 as int)) THEN true ELSE false END))\n",
      "                  +- *(1) FileScan csv [league#12,team1#13,team2#14,score1#24,score2#25] Batched: false, Format: CSV, Location: InMemoryFileIndex[file:/home/jovyan/work/spi_matches.csv], PartitionFilters: [], PushedFilters: [IsNotNull(score1), IsNotNull(league), StringContains(league,Barclays)], ReadSchema: struct<league:string,team1:string,team2:string,score1:string,score2:string>\n"
     ]
    }
   ],
   "source": [
    "best.explain()"
   ]
  },
  {
   "cell_type": "markdown",
   "metadata": {},
   "source": [
    "In this we can find all the steps we have applied on top of the CSV: selection (that's `Project`), casting... There is some magic going here, with filters and operations being pushed down as closer to the data as possible. If we hadn't been `show`ing so often, the process would have been:\n",
    "- Read the data row-by-row (or batch by batch), ignore columns we have removed and apply the required `NotNull` filters before casting\n",
    "- Apply `when` conditions\n",
    "- Aggregate and count\n",
    "\n",
    "You can get additional information with\n"
   ]
  },
  {
   "cell_type": "code",
   "execution_count": 35,
   "metadata": {},
   "outputs": [
    {
     "name": "stdout",
     "output_type": "stream",
     "text": [
      "== Parsed Logical Plan ==\n",
      "'Sort ['count DESC NULLS LAST], true\n",
      "+- Aggregate [winner#2201], [winner#2201, count(1) AS count#2219L]\n",
      "   +- Project [winner#2201]\n",
      "      +- Project [team1#1572, team2#1573, win1#2177, win2#2178, CASE WHEN win1#2177 THEN team1#1572 ELSE team2#1573 END AS winner#2201]\n",
      "         +- Filter (win1#2177 || win2#2178)\n",
      "            +- Project [team1#1572, team2#1573, CASE WHEN (score1#1574 > score2#1575) THEN true ELSE false END AS win1#2177, CASE WHEN (score2#1575 > score1#1574) THEN true ELSE false END AS win2#2178]\n",
      "               +- Filter isnotnull(score1#1574)\n",
      "                  +- Filter Contains(league#1571, Barclays)\n",
      "                     +- Project [cast(date#10 as date) AS date#1570, cast(league#12 as string) AS league#1571, cast(team1#13 as string) AS team1#1572, cast(team2#14 as string) AS team2#1573, cast(score1#24 as int) AS score1#1574, cast(score2#25 as int) AS score2#1575]\n",
      "                        +- Relation[date#10,league_id#11,league#12,team1#13,team2#14,spi1#15,spi2#16,prob1#17,prob2#18,probtie#19,proj_score1#20,proj_score2#21,importance1#22,importance2#23,score1#24,score2#25,xg1#26,xg2#27,nsxg1#28,nsxg2#29,adj_score1#30,adj_score2#31] csv\n",
      "\n",
      "== Analyzed Logical Plan ==\n",
      "winner: string, count: bigint\n",
      "Sort [count#2219L DESC NULLS LAST], true\n",
      "+- Aggregate [winner#2201], [winner#2201, count(1) AS count#2219L]\n",
      "   +- Project [winner#2201]\n",
      "      +- Project [team1#1572, team2#1573, win1#2177, win2#2178, CASE WHEN win1#2177 THEN team1#1572 ELSE team2#1573 END AS winner#2201]\n",
      "         +- Filter (win1#2177 || win2#2178)\n",
      "            +- Project [team1#1572, team2#1573, CASE WHEN (score1#1574 > score2#1575) THEN true ELSE false END AS win1#2177, CASE WHEN (score2#1575 > score1#1574) THEN true ELSE false END AS win2#2178]\n",
      "               +- Filter isnotnull(score1#1574)\n",
      "                  +- Filter Contains(league#1571, Barclays)\n",
      "                     +- Project [cast(date#10 as date) AS date#1570, cast(league#12 as string) AS league#1571, cast(team1#13 as string) AS team1#1572, cast(team2#14 as string) AS team2#1573, cast(score1#24 as int) AS score1#1574, cast(score2#25 as int) AS score2#1575]\n",
      "                        +- Relation[date#10,league_id#11,league#12,team1#13,team2#14,spi1#15,spi2#16,prob1#17,prob2#18,probtie#19,proj_score1#20,proj_score2#21,importance1#22,importance2#23,score1#24,score2#25,xg1#26,xg2#27,nsxg1#28,nsxg2#29,adj_score1#30,adj_score2#31] csv\n",
      "\n",
      "== Optimized Logical Plan ==\n",
      "Sort [count#2219L DESC NULLS LAST], true\n",
      "+- Aggregate [winner#2201], [winner#2201, count(1) AS count#2219L]\n",
      "   +- Project [CASE WHEN CASE WHEN (cast(score1#24 as int) > cast(score2#25 as int)) THEN true ELSE false END THEN team1#13 ELSE team2#14 END AS winner#2201]\n",
      "      +- Filter ((((isnotnull(score1#24) && isnotnull(league#12)) && Contains(league#12, Barclays)) && isnotnull(cast(score1#24 as int))) && (CASE WHEN (cast(score1#24 as int) > cast(score2#25 as int)) THEN true ELSE false END || CASE WHEN (cast(score2#25 as int) > cast(score1#24 as int)) THEN true ELSE false END))\n",
      "         +- Relation[date#10,league_id#11,league#12,team1#13,team2#14,spi1#15,spi2#16,prob1#17,prob2#18,probtie#19,proj_score1#20,proj_score2#21,importance1#22,importance2#23,score1#24,score2#25,xg1#26,xg2#27,nsxg1#28,nsxg2#29,adj_score1#30,adj_score2#31] csv\n",
      "\n",
      "== Physical Plan ==\n",
      "*(3) Sort [count#2219L DESC NULLS LAST], true, 0\n",
      "+- Exchange rangepartitioning(count#2219L DESC NULLS LAST, 200)\n",
      "   +- *(2) HashAggregate(keys=[winner#2201], functions=[count(1)], output=[winner#2201, count#2219L])\n",
      "      +- Exchange hashpartitioning(winner#2201, 200)\n",
      "         +- *(1) HashAggregate(keys=[winner#2201], functions=[partial_count(1)], output=[winner#2201, count#2229L])\n",
      "            +- *(1) Project [CASE WHEN CASE WHEN (cast(score1#24 as int) > cast(score2#25 as int)) THEN true ELSE false END THEN team1#13 ELSE team2#14 END AS winner#2201]\n",
      "               +- *(1) Filter ((((isnotnull(score1#24) && isnotnull(league#12)) && Contains(league#12, Barclays)) && isnotnull(cast(score1#24 as int))) && (CASE WHEN (cast(score1#24 as int) > cast(score2#25 as int)) THEN true ELSE false END || CASE WHEN (cast(score2#25 as int) > cast(score1#24 as int)) THEN true ELSE false END))\n",
      "                  +- *(1) FileScan csv [league#12,team1#13,team2#14,score1#24,score2#25] Batched: false, Format: CSV, Location: InMemoryFileIndex[file:/home/jovyan/work/spi_matches.csv], PartitionFilters: [], PushedFilters: [IsNotNull(score1), IsNotNull(league), StringContains(league,Barclays)], ReadSchema: struct<league:string,team1:string,team2:string,score1:string,score2:string>\n"
     ]
    }
   ],
   "source": [
    "best.explain(extended=True)"
   ]
  },
  {
   "cell_type": "markdown",
   "metadata": {},
   "source": [
    "---\n",
    "\n",
    "In Scala you can do some more fancy stuff with the plans, but usually you shouldn't anyway\n",
    "\n",
    "---"
   ]
  },
  {
   "cell_type": "markdown",
   "metadata": {},
   "source": [
    "Now, imagine that we want to report on results (what we had in `premier`) together with the total number of wins for the team. And, that we don't want to use a `Window` function. I.e. we have an excuse to learn about `join` in Spark!"
   ]
  },
  {
   "cell_type": "code",
   "execution_count": 36,
   "metadata": {},
   "outputs": [],
   "source": [
    "spark.conf.set(\"spark.sql.autoBroadcastJoinThreshold\", -1) #  This will be explained later\n",
    "\n",
    "joined = premier.alias(\"premier\").join(best.alias(\"best1\"), col(\"best1.winner\") == col(\"premier.team1\"))\\\n",
    "                                 .withColumnRenamed(\"count\", \"team1_wins\")\\\n",
    "                                 .drop(col(\"best1.winner\"))\\\n",
    "                                 .join(best.alias(\"best2\"), col(\"best2.winner\") == col(\"premier.team2\"))\\\n",
    "                                 .withColumnRenamed(\"count\", \"team2_wins\")\\\n",
    "                                 .drop(col(\"best2.winner\")) "
   ]
  },
  {
   "cell_type": "markdown",
   "metadata": {},
   "source": [
    "Writing joins without resorting to SQL needs some practice and some tips:\n",
    "- I recommend adding aliases to the tables, since it makes joins clearer, especially if there are columns _with the same name_ in both tables but you only join on a few\n",
    "- Please, please try to remove/rename columns with the same names _before_ the join, it will make your life easier\n",
    "- Note that the name of format `table.column` is only relevant for some methods (the ones using columns as inputs instead of strings). This can be a source of confusion (especially since `withColumnRenamed` doesn't fail if the column does not exist)"
   ]
  },
  {
   "cell_type": "code",
   "execution_count": 37,
   "metadata": {},
   "outputs": [
    {
     "name": "stdout",
     "output_type": "stream",
     "text": [
      "root\n",
      " |-- date: date (nullable = true)\n",
      " |-- league: string (nullable = true)\n",
      " |-- team1: string (nullable = true)\n",
      " |-- team2: string (nullable = true)\n",
      " |-- score1: integer (nullable = true)\n",
      " |-- score2: integer (nullable = true)\n",
      " |-- team1_wins: long (nullable = false)\n",
      " |-- team2_wins: long (nullable = false)\n",
      "\n",
      "+----------+--------------------+-----------------+------------+------+------+----------+----------+\n",
      "|      date|              league|            team1|       team2|score1|score2|team1_wins|team2_wins|\n",
      "+----------+--------------------+-----------------+------------+------+------+----------+----------+\n",
      "|2017-05-13|Barclays Premier ...|       Sunderland|Swansea City|     0|     2|         6|        20|\n",
      "|2017-04-30|Barclays Premier ...|Manchester United|Swansea City|     1|     1|        66|        20|\n",
      "|2018-03-31|Barclays Premier ...|Manchester United|Swansea City|     2|     0|        66|        20|\n",
      "|2016-10-15|Barclays Premier ...|          Arsenal|Swansea City|     3|     2|        67|        20|\n",
      "|2017-10-28|Barclays Premier ...|          Arsenal|Swansea City|     2|     1|        67|        20|\n",
      "|2016-10-31|Barclays Premier ...|       Stoke City|Swansea City|     3|     1|        18|        20|\n",
      "|2017-12-02|Barclays Premier ...|       Stoke City|Swansea City|     2|     1|        18|        20|\n",
      "|2017-01-03|Barclays Premier ...|   Crystal Palace|Swansea City|     1|     2|        41|        20|\n",
      "|2017-08-26|Barclays Premier ...|   Crystal Palace|Swansea City|     0|     2|        41|        20|\n",
      "|2017-03-18|Barclays Premier ...|  AFC Bournemouth|Swansea City|     2|     0|        40|        20|\n",
      "|2018-05-05|Barclays Premier ...|  AFC Bournemouth|Swansea City|     1|     0|        40|        20|\n",
      "|2016-08-13|Barclays Premier ...|          Burnley|Swansea City|     0|     1|        40|        20|\n",
      "|2017-11-18|Barclays Premier ...|          Burnley|Swansea City|     2|     0|        40|        20|\n",
      "|2017-02-05|Barclays Premier ...|  Manchester City|Swansea City|     2|     1|        95|        20|\n",
      "|2018-04-22|Barclays Premier ...|  Manchester City|Swansea City|     5|     0|        95|        20|\n",
      "|2016-09-18|Barclays Premier ...|      Southampton|Swansea City|     1|     0|        30|        20|\n",
      "|2017-08-12|Barclays Premier ...|      Southampton|Swansea City|     0|     0|        30|        20|\n",
      "|2016-08-27|Barclays Premier ...|   Leicester City|Swansea City|     2|     1|        47|        20|\n",
      "|2018-02-03|Barclays Premier ...|   Leicester City|Swansea City|     1|     1|        47|        20|\n",
      "|2016-12-03|Barclays Premier ...|Tottenham Hotspur|Swansea City|     5|     0|        75|        20|\n",
      "+----------+--------------------+-----------------+------------+------+------+----------+----------+\n",
      "only showing top 20 rows\n",
      "\n"
     ]
    }
   ],
   "source": [
    "joined.printSchema()\n",
    "joined.show()"
   ]
  },
  {
   "cell_type": "code",
   "execution_count": 38,
   "metadata": {},
   "outputs": [
    {
     "name": "stdout",
     "output_type": "stream",
     "text": [
      "== Physical Plan ==\n",
      "*(13) Project [date#1570, league#12, team1#13, team2#14, score1#1574, score2#1575, team1_wins#2260L, count#2219L AS team2_wins#2303L]\n",
      "+- *(13) SortMergeJoin [team2#14], [winner#2201], Inner\n",
      "   :- *(8) Sort [team2#14 ASC NULLS FIRST], false, 0\n",
      "   :  +- Exchange hashpartitioning(team2#14, 200)\n",
      "   :     +- *(7) Project [date#1570, league#12, team1#13, team2#14, score1#1574, score2#1575, count#2219L AS team1_wins#2260L]\n",
      "   :        +- *(7) SortMergeJoin [team1#13], [winner#2201], Inner\n",
      "   :           :- *(2) Sort [team1#13 ASC NULLS FIRST], false, 0\n",
      "   :           :  +- Exchange hashpartitioning(team1#13, 200)\n",
      "   :           :     +- *(1) Project [cast(date#10 as date) AS date#1570, league#12, team1#13, team2#14, cast(score1#24 as int) AS score1#1574, cast(score2#25 as int) AS score2#1575]\n",
      "   :           :        +- *(1) Filter (((isnotnull(league#12) && Contains(league#12, Barclays)) && isnotnull(team1#13)) && isnotnull(team2#14))\n",
      "   :           :           +- *(1) FileScan csv [date#10,league#12,team1#13,team2#14,score1#24,score2#25] Batched: false, Format: CSV, Location: InMemoryFileIndex[file:/home/jovyan/work/spi_matches.csv], PartitionFilters: [], PushedFilters: [IsNotNull(league), StringContains(league,Barclays), IsNotNull(team1), IsNotNull(team2)], ReadSchema: struct<date:string,league:string,team1:string,team2:string,score1:string,score2:string>\n",
      "   :           +- *(6) Sort [winner#2201 ASC NULLS FIRST], false, 0\n",
      "   :              +- Exchange hashpartitioning(winner#2201, 200)\n",
      "   :                 +- *(5) Sort [count#2219L DESC NULLS LAST], true, 0\n",
      "   :                    +- Exchange rangepartitioning(count#2219L DESC NULLS LAST, 200)\n",
      "   :                       +- *(4) HashAggregate(keys=[winner#2201], functions=[count(1)])\n",
      "   :                          +- Exchange hashpartitioning(winner#2201, 200)\n",
      "   :                             +- *(3) HashAggregate(keys=[winner#2201], functions=[partial_count(1)])\n",
      "   :                                +- *(3) Project [CASE WHEN CASE WHEN (cast(score1#24 as int) > cast(score2#25 as int)) THEN true ELSE false END THEN team1#13 ELSE team2#14 END AS winner#2201]\n",
      "   :                                   +- *(3) Filter (((((isnotnull(score1#24) && isnotnull(league#12)) && Contains(league#12, Barclays)) && isnotnull(cast(score1#24 as int))) && (CASE WHEN (cast(score1#24 as int) > cast(score2#25 as int)) THEN true ELSE false END || CASE WHEN (cast(score2#25 as int) > cast(score1#24 as int)) THEN true ELSE false END)) && isnotnull(CASE WHEN CASE WHEN (cast(score1#24 as int) > cast(score2#25 as int)) THEN true ELSE false END THEN team1#13 ELSE team2#14 END))\n",
      "   :                                      +- *(3) FileScan csv [league#12,team1#13,team2#14,score1#24,score2#25] Batched: false, Format: CSV, Location: InMemoryFileIndex[file:/home/jovyan/work/spi_matches.csv], PartitionFilters: [], PushedFilters: [IsNotNull(score1), IsNotNull(league), StringContains(league,Barclays)], ReadSchema: struct<league:string,team1:string,team2:string,score1:string,score2:string>\n",
      "   +- *(12) Sort [winner#2201 ASC NULLS FIRST], false, 0\n",
      "      +- ReusedExchange [winner#2201, count#2219L], Exchange hashpartitioning(winner#2201, 200)\n"
     ]
    }
   ],
   "source": [
    "joined.explain()"
   ]
  },
  {
   "cell_type": "markdown",
   "metadata": {},
   "source": [
    "---\n",
    "[`SortMergeJoin`](https://en.wikipedia.org/wiki/Sort-merge_join) is [one of the methods](https://github.com/apache/spark/tree/master/sql/core/src/main/scala/org/apache/spark/sql/execution/joins) for joining two tables, when they are sorted. In this case, the Spark query planner has decided sorting these tables for the join is the best way of doing it.\n",
    "\n",
    "*TRIVIA*: The \"gold standard\" for distributed joins is the (distributed) [hash join](https://en.wikipedia.org/wiki/Hash_join). Hash join is used locally also when data is too large for memory.\n",
    "\n",
    "In this case, Spark would also have been smart enough to use a *broadcast join*, since the tables are small (this is why I disabled it before, I wanted to show how to force it). Sometimes, it can be necessary to hint to Spark that one of the tables is significantly smaller, and broadcasting is cheaper. You'd do it as follows:"
   ]
  },
  {
   "cell_type": "code",
   "execution_count": 39,
   "metadata": {},
   "outputs": [],
   "source": [
    "from pyspark.sql.functions import broadcast\n",
    "\n",
    "joined_2 = premier.alias(\"premier\").join(broadcast(best.alias(\"best1\")), col(\"best1.winner\") == col(\"premier.team1\"))\\\n",
    "                                 .withColumnRenamed(\"count\", \"team1_wins\")\\\n",
    "                                 .drop(\"winner\")\\\n",
    "                                 .join(broadcast(best.alias(\"best2\")), col(\"best2.winner\") == col(\"premier.team2\"))\\\n",
    "                                 .withColumnRenamed(\"count\", \"team2_wins\")\\\n",
    "                                 .drop(\"winner\") "
   ]
  },
  {
   "cell_type": "code",
   "execution_count": 40,
   "metadata": {},
   "outputs": [
    {
     "name": "stdout",
     "output_type": "stream",
     "text": [
      "== Physical Plan ==\n",
      "*(7) Project [date#1570, league#12, team1#13, team2#14, score1#1574, score2#1575, team1_wins#2381L, count#2219L AS team2_wins#2424L]\n",
      "+- *(7) BroadcastHashJoin [team2#14], [winner#2201], Inner, BuildRight\n",
      "   :- *(7) Project [date#1570, league#12, team1#13, team2#14, score1#1574, score2#1575, count#2219L AS team1_wins#2381L]\n",
      "   :  +- *(7) BroadcastHashJoin [team1#13], [winner#2201], Inner, BuildRight\n",
      "   :     :- *(7) Project [cast(date#10 as date) AS date#1570, league#12, team1#13, team2#14, cast(score1#24 as int) AS score1#1574, cast(score2#25 as int) AS score2#1575]\n",
      "   :     :  +- *(7) Filter (((isnotnull(league#12) && Contains(league#12, Barclays)) && isnotnull(team1#13)) && isnotnull(team2#14))\n",
      "   :     :     +- *(7) FileScan csv [date#10,league#12,team1#13,team2#14,score1#24,score2#25] Batched: false, Format: CSV, Location: InMemoryFileIndex[file:/home/jovyan/work/spi_matches.csv], PartitionFilters: [], PushedFilters: [IsNotNull(league), StringContains(league,Barclays), IsNotNull(team1), IsNotNull(team2)], ReadSchema: struct<date:string,league:string,team1:string,team2:string,score1:string,score2:string>\n",
      "   :     +- BroadcastExchange HashedRelationBroadcastMode(List(input[0, string, true]))\n",
      "   :        +- *(3) Sort [count#2219L DESC NULLS LAST], true, 0\n",
      "   :           +- Exchange rangepartitioning(count#2219L DESC NULLS LAST, 200)\n",
      "   :              +- *(2) HashAggregate(keys=[winner#2201], functions=[count(1)])\n",
      "   :                 +- Exchange hashpartitioning(winner#2201, 200)\n",
      "   :                    +- *(1) HashAggregate(keys=[winner#2201], functions=[partial_count(1)])\n",
      "   :                       +- *(1) Project [CASE WHEN CASE WHEN (cast(score1#24 as int) > cast(score2#25 as int)) THEN true ELSE false END THEN team1#13 ELSE team2#14 END AS winner#2201]\n",
      "   :                          +- *(1) Filter (((((isnotnull(score1#24) && isnotnull(league#12)) && Contains(league#12, Barclays)) && isnotnull(cast(score1#24 as int))) && (CASE WHEN (cast(score1#24 as int) > cast(score2#25 as int)) THEN true ELSE false END || CASE WHEN (cast(score2#25 as int) > cast(score1#24 as int)) THEN true ELSE false END)) && isnotnull(CASE WHEN CASE WHEN (cast(score1#24 as int) > cast(score2#25 as int)) THEN true ELSE false END THEN team1#13 ELSE team2#14 END))\n",
      "   :                             +- *(1) FileScan csv [league#12,team1#13,team2#14,score1#24,score2#25] Batched: false, Format: CSV, Location: InMemoryFileIndex[file:/home/jovyan/work/spi_matches.csv], PartitionFilters: [], PushedFilters: [IsNotNull(score1), IsNotNull(league), StringContains(league,Barclays)], ReadSchema: struct<league:string,team1:string,team2:string,score1:string,score2:string>\n",
      "   +- ReusedExchange [winner#2201, count#2219L], BroadcastExchange HashedRelationBroadcastMode(List(input[0, string, true]))\n"
     ]
    }
   ],
   "source": [
    "joined_2.explain()"
   ]
  },
  {
   "cell_type": "markdown",
   "metadata": {},
   "source": [
    "This hinted Spark to use a `BroadcastHashJoin` which is in general more efficient if tables are small: less shuffling means faster operations."
   ]
  },
  {
   "cell_type": "markdown",
   "metadata": {},
   "source": [
    "# UDFs (User-Defined functions)"
   ]
  },
  {
   "cell_type": "markdown",
   "metadata": {},
   "source": [
    "So far, we have operated mostly in the JVM. When using the Dataframe API, only `show` and `count` have sent anything significant to the Pythonk side of operations, all else has actually been running in the Spark core. That's actually pretty good! The serialization cost of sending data back and forth between Python and the JVM is large.\n",
    "\n",
    "UDFs, functions defined in Python that operate in Spark data can, thus, be _extremely_ slow, especially when compared with similar functions available in `spark.sql.functions`. There are some improvements in Spark 2.4 and greater, which we'll see now."
   ]
  },
  {
   "cell_type": "code",
   "execution_count": 41,
   "metadata": {},
   "outputs": [
    {
     "data": {
      "text/plain": [
       "<function __main__.home_win(home_score, away_score)>"
      ]
     },
     "execution_count": 41,
     "metadata": {},
     "output_type": "execute_result"
    }
   ],
   "source": [
    "from pyspark.sql.types import BooleanType\n",
    "\n",
    "def home_win(home_score, away_score):\n",
    "    return home_score > away_score\n",
    "spark.udf.register(\"home_win_python\", home_win, BooleanType()) #  It's better if we can have the type!"
   ]
  },
  {
   "cell_type": "code",
   "execution_count": 42,
   "metadata": {},
   "outputs": [
    {
     "name": "stdout",
     "output_type": "stream",
     "text": [
      "root\n",
      " |-- team1: string (nullable = true)\n",
      " |-- team2: string (nullable = true)\n",
      " |-- score1: integer (nullable = true)\n",
      " |-- score2: integer (nullable = true)\n",
      " |-- home_win: boolean (nullable = true)\n",
      "\n",
      "+--------------+--------------------+------+------+--------+\n",
      "|         team1|               team2|score1|score2|home_win|\n",
      "+--------------+--------------------+------+------+--------+\n",
      "|     Hull City|      Leicester City|     2|     1|    true|\n",
      "|Crystal Palace|West Bromwich Albion|     0|     1|   false|\n",
      "|       Everton|   Tottenham Hotspur|     1|     1|   false|\n",
      "|       Burnley|        Swansea City|     0|     1|   false|\n",
      "|   Southampton|             Watford|     1|     1|   false|\n",
      "+--------------+--------------------+------+------+--------+\n",
      "only showing top 5 rows\n",
      "\n"
     ]
    }
   ],
   "source": [
    "udf_example = current_premier.select(\"team1\", \"team2\", \"score1\", \"score2\")\\\n",
    "                             .withColumn(\"home_win\", home_win(col(\"score1\"), col(\"score2\")))\n",
    "\n",
    "udf_example.printSchema()\n",
    "udf_example.show(5)"
   ]
  },
  {
   "cell_type": "markdown",
   "metadata": {},
   "source": [
    "---\n",
    "\n",
    "You can also use a decorator for defining UDFs"
   ]
  },
  {
   "cell_type": "code",
   "execution_count": 43,
   "metadata": {},
   "outputs": [],
   "source": [
    "from pyspark.sql.functions import udf\n",
    "\n",
    "@udf(BooleanType())\n",
    "def away_win(home_score, away_score):\n",
    "    return home_score < away_score"
   ]
  },
  {
   "cell_type": "code",
   "execution_count": 44,
   "metadata": {},
   "outputs": [
    {
     "name": "stdout",
     "output_type": "stream",
     "text": [
      "root\n",
      " |-- team1: string (nullable = true)\n",
      " |-- team2: string (nullable = true)\n",
      " |-- score1: integer (nullable = true)\n",
      " |-- score2: integer (nullable = true)\n",
      " |-- away_win: boolean (nullable = true)\n",
      "\n",
      "+--------------+--------------------+------+------+--------+\n",
      "|         team1|               team2|score1|score2|away_win|\n",
      "+--------------+--------------------+------+------+--------+\n",
      "|     Hull City|      Leicester City|     2|     1|   false|\n",
      "|Crystal Palace|West Bromwich Albion|     0|     1|    true|\n",
      "|       Everton|   Tottenham Hotspur|     1|     1|   false|\n",
      "|       Burnley|        Swansea City|     0|     1|    true|\n",
      "|   Southampton|             Watford|     1|     1|   false|\n",
      "+--------------+--------------------+------+------+--------+\n",
      "only showing top 5 rows\n",
      "\n"
     ]
    }
   ],
   "source": [
    "udf_example_2 = current_premier.select(\"team1\", \"team2\", \"score1\", \"score2\")\\\n",
    "                               .withColumn(\"away_win\", away_win(col(\"score1\"), col(\"score2\")))\n",
    "\n",
    "udf_example_2.printSchema()\n",
    "udf_example_2.show(5)"
   ]
  },
  {
   "cell_type": "markdown",
   "metadata": {},
   "source": [
    "A problem though is that these UDFs require moving data to and from the JVM, serializing and deserializing, which is slow. A faster way is using Pandas columnar UDFs, especially if you plan on doing any Pandas or Numpy computation\n"
   ]
  },
  {
   "cell_type": "markdown",
   "metadata": {},
   "source": [
    "## Pandas vectorized UDFs"
   ]
  },
  {
   "cell_type": "code",
   "execution_count": 45,
   "metadata": {},
   "outputs": [],
   "source": [
    "import pandas as pd\n",
    "\n",
    "from pyspark.sql.functions import pandas_udf\n",
    "\n",
    "@pandas_udf(returnType=BooleanType())\n",
    "def tie(home_score, away_score):\n",
    "    return home_score == away_score"
   ]
  },
  {
   "cell_type": "code",
   "execution_count": 46,
   "metadata": {},
   "outputs": [
    {
     "name": "stdout",
     "output_type": "stream",
     "text": [
      "root\n",
      " |-- team1: string (nullable = true)\n",
      " |-- team2: string (nullable = true)\n",
      " |-- score1: integer (nullable = true)\n",
      " |-- score2: integer (nullable = true)\n",
      " |-- tie: boolean (nullable = true)\n",
      "\n"
     ]
    },
    {
     "name": "stderr",
     "output_type": "stream",
     "text": [
      "/opt/conda/lib/python3.7/site-packages/pyarrow/__init__.py:157: UserWarning: pyarrow.open_stream is deprecated, please use pyarrow.ipc.open_stream\n",
      "  warnings.warn(\"pyarrow.open_stream is deprecated, please use \"\n"
     ]
    },
    {
     "data": {
      "text/html": [
       "<div>\n",
       "<style scoped>\n",
       "    .dataframe tbody tr th:only-of-type {\n",
       "        vertical-align: middle;\n",
       "    }\n",
       "\n",
       "    .dataframe tbody tr th {\n",
       "        vertical-align: top;\n",
       "    }\n",
       "\n",
       "    .dataframe thead th {\n",
       "        text-align: right;\n",
       "    }\n",
       "</style>\n",
       "<table border=\"1\" class=\"dataframe\">\n",
       "  <thead>\n",
       "    <tr style=\"text-align: right;\">\n",
       "      <th></th>\n",
       "      <th>team1</th>\n",
       "      <th>team2</th>\n",
       "      <th>score1</th>\n",
       "      <th>score2</th>\n",
       "      <th>tie</th>\n",
       "    </tr>\n",
       "  </thead>\n",
       "  <tbody>\n",
       "    <tr>\n",
       "      <td>0</td>\n",
       "      <td>Hull City</td>\n",
       "      <td>Leicester City</td>\n",
       "      <td>2</td>\n",
       "      <td>1</td>\n",
       "      <td>False</td>\n",
       "    </tr>\n",
       "    <tr>\n",
       "      <td>1</td>\n",
       "      <td>Crystal Palace</td>\n",
       "      <td>West Bromwich Albion</td>\n",
       "      <td>0</td>\n",
       "      <td>1</td>\n",
       "      <td>False</td>\n",
       "    </tr>\n",
       "    <tr>\n",
       "      <td>2</td>\n",
       "      <td>Everton</td>\n",
       "      <td>Tottenham Hotspur</td>\n",
       "      <td>1</td>\n",
       "      <td>1</td>\n",
       "      <td>True</td>\n",
       "    </tr>\n",
       "    <tr>\n",
       "      <td>3</td>\n",
       "      <td>Burnley</td>\n",
       "      <td>Swansea City</td>\n",
       "      <td>0</td>\n",
       "      <td>1</td>\n",
       "      <td>False</td>\n",
       "    </tr>\n",
       "    <tr>\n",
       "      <td>4</td>\n",
       "      <td>Southampton</td>\n",
       "      <td>Watford</td>\n",
       "      <td>1</td>\n",
       "      <td>1</td>\n",
       "      <td>True</td>\n",
       "    </tr>\n",
       "  </tbody>\n",
       "</table>\n",
       "</div>"
      ],
      "text/plain": [
       "            team1                 team2  score1  score2    tie\n",
       "0       Hull City        Leicester City       2       1  False\n",
       "1  Crystal Palace  West Bromwich Albion       0       1  False\n",
       "2         Everton     Tottenham Hotspur       1       1   True\n",
       "3         Burnley          Swansea City       0       1  False\n",
       "4     Southampton               Watford       1       1   True"
      ]
     },
     "execution_count": 46,
     "metadata": {},
     "output_type": "execute_result"
    }
   ],
   "source": [
    "spark.conf.set(\"spark.sql.execution.arrow.enabled\", \"true\")\n",
    "\n",
    "udf_example_3 = current_premier.select(\"team1\", \"team2\", \"score1\", \"score2\")\\\n",
    "                               .withColumn(\"tie\", tie(col(\"score1\"), col(\"score2\")))\n",
    "udf_example_3.printSchema()\n",
    "udf_example_3.toPandas().head()"
   ]
  },
  {
   "cell_type": "code",
   "execution_count": 47,
   "metadata": {},
   "outputs": [
    {
     "name": "stdout",
     "output_type": "stream",
     "text": [
      "+--------------+--------------------+------+------+-----+\n",
      "|         team1|               team2|score1|score2|  tie|\n",
      "+--------------+--------------------+------+------+-----+\n",
      "|     Hull City|      Leicester City|     2|     1|false|\n",
      "|Crystal Palace|West Bromwich Albion|     0|     1|false|\n",
      "|       Everton|   Tottenham Hotspur|     1|     1| true|\n",
      "|       Burnley|        Swansea City|     0|     1|false|\n",
      "|   Southampton|             Watford|     1|     1| true|\n",
      "+--------------+--------------------+------+------+-----+\n",
      "only showing top 5 rows\n",
      "\n",
      "CPU times: user 10 ms, sys: 0 ns, total: 10 ms\n",
      "Wall time: 1.59 s\n"
     ]
    }
   ],
   "source": [
    "%%time\n",
    "udf_example_3 = current_premier.select(\"team1\", \"team2\", \"score1\", \"score2\")\\\n",
    "                               .withColumn(\"tie\", tie(col(\"score1\"), col(\"score2\")))\n",
    "udf_example_3.show(5)"
   ]
  },
  {
   "cell_type": "code",
   "execution_count": 48,
   "metadata": {},
   "outputs": [
    {
     "name": "stdout",
     "output_type": "stream",
     "text": [
      "+--------------+--------------------+------+------+--------+\n",
      "|         team1|               team2|score1|score2|away_win|\n",
      "+--------------+--------------------+------+------+--------+\n",
      "|     Hull City|      Leicester City|     2|     1|   false|\n",
      "|Crystal Palace|West Bromwich Albion|     0|     1|    true|\n",
      "|       Everton|   Tottenham Hotspur|     1|     1|   false|\n",
      "|       Burnley|        Swansea City|     0|     1|    true|\n",
      "|   Southampton|             Watford|     1|     1|   false|\n",
      "+--------------+--------------------+------+------+--------+\n",
      "only showing top 5 rows\n",
      "\n",
      "CPU times: user 10 ms, sys: 0 ns, total: 10 ms\n",
      "Wall time: 469 ms\n"
     ]
    }
   ],
   "source": [
    "%%time\n",
    "udf_example_2 = current_premier.select(\"team1\", \"team2\", \"score1\", \"score2\")\\\n",
    "                               .withColumn(\"away_win\", away_win(col(\"score1\"), col(\"score2\")))\n",
    "udf_example_2.show(5)"
   ]
  },
  {
   "cell_type": "markdown",
   "metadata": {},
   "source": [
    "This didn't look faster to me"
   ]
  },
  {
   "cell_type": "code",
   "execution_count": 49,
   "metadata": {},
   "outputs": [],
   "source": [
    "spark.conf.set(\"spark.sql.execution.arrow.enabled\", \"true\")"
   ]
  },
  {
   "cell_type": "code",
   "execution_count": 50,
   "metadata": {},
   "outputs": [
    {
     "name": "stdout",
     "output_type": "stream",
     "text": [
      "CPU times: user 0 ns, sys: 20 ms, total: 20 ms\n",
      "Wall time: 1.63 s\n"
     ]
    },
    {
     "data": {
      "text/html": [
       "<div>\n",
       "<style scoped>\n",
       "    .dataframe tbody tr th:only-of-type {\n",
       "        vertical-align: middle;\n",
       "    }\n",
       "\n",
       "    .dataframe tbody tr th {\n",
       "        vertical-align: top;\n",
       "    }\n",
       "\n",
       "    .dataframe thead th {\n",
       "        text-align: right;\n",
       "    }\n",
       "</style>\n",
       "<table border=\"1\" class=\"dataframe\">\n",
       "  <thead>\n",
       "    <tr style=\"text-align: right;\">\n",
       "      <th></th>\n",
       "      <th>team1</th>\n",
       "      <th>team2</th>\n",
       "      <th>score1</th>\n",
       "      <th>score2</th>\n",
       "      <th>tie</th>\n",
       "    </tr>\n",
       "  </thead>\n",
       "  <tbody>\n",
       "    <tr>\n",
       "      <td>0</td>\n",
       "      <td>Hull City</td>\n",
       "      <td>Leicester City</td>\n",
       "      <td>2</td>\n",
       "      <td>1</td>\n",
       "      <td>False</td>\n",
       "    </tr>\n",
       "    <tr>\n",
       "      <td>1</td>\n",
       "      <td>Crystal Palace</td>\n",
       "      <td>West Bromwich Albion</td>\n",
       "      <td>0</td>\n",
       "      <td>1</td>\n",
       "      <td>False</td>\n",
       "    </tr>\n",
       "    <tr>\n",
       "      <td>2</td>\n",
       "      <td>Everton</td>\n",
       "      <td>Tottenham Hotspur</td>\n",
       "      <td>1</td>\n",
       "      <td>1</td>\n",
       "      <td>True</td>\n",
       "    </tr>\n",
       "    <tr>\n",
       "      <td>3</td>\n",
       "      <td>Burnley</td>\n",
       "      <td>Swansea City</td>\n",
       "      <td>0</td>\n",
       "      <td>1</td>\n",
       "      <td>False</td>\n",
       "    </tr>\n",
       "    <tr>\n",
       "      <td>4</td>\n",
       "      <td>Southampton</td>\n",
       "      <td>Watford</td>\n",
       "      <td>1</td>\n",
       "      <td>1</td>\n",
       "      <td>True</td>\n",
       "    </tr>\n",
       "  </tbody>\n",
       "</table>\n",
       "</div>"
      ],
      "text/plain": [
       "            team1                 team2  score1  score2    tie\n",
       "0       Hull City        Leicester City       2       1  False\n",
       "1  Crystal Palace  West Bromwich Albion       0       1  False\n",
       "2         Everton     Tottenham Hotspur       1       1   True\n",
       "3         Burnley          Swansea City       0       1  False\n",
       "4     Southampton               Watford       1       1   True"
      ]
     },
     "execution_count": 50,
     "metadata": {},
     "output_type": "execute_result"
    }
   ],
   "source": [
    "%%time\n",
    "udf_example_3 = current_premier.select(\"team1\", \"team2\", \"score1\", \"score2\")\\\n",
    "                               .withColumn(\"tie\", tie(col(\"score1\"), col(\"score2\")))\n",
    "udf_example_3.toPandas().head()"
   ]
  },
  {
   "cell_type": "code",
   "execution_count": 51,
   "metadata": {},
   "outputs": [
    {
     "name": "stdout",
     "output_type": "stream",
     "text": [
      "CPU times: user 0 ns, sys: 30 ms, total: 30 ms\n",
      "Wall time: 594 ms\n"
     ]
    },
    {
     "data": {
      "text/html": [
       "<div>\n",
       "<style scoped>\n",
       "    .dataframe tbody tr th:only-of-type {\n",
       "        vertical-align: middle;\n",
       "    }\n",
       "\n",
       "    .dataframe tbody tr th {\n",
       "        vertical-align: top;\n",
       "    }\n",
       "\n",
       "    .dataframe thead th {\n",
       "        text-align: right;\n",
       "    }\n",
       "</style>\n",
       "<table border=\"1\" class=\"dataframe\">\n",
       "  <thead>\n",
       "    <tr style=\"text-align: right;\">\n",
       "      <th></th>\n",
       "      <th>team1</th>\n",
       "      <th>team2</th>\n",
       "      <th>score1</th>\n",
       "      <th>score2</th>\n",
       "      <th>away_win</th>\n",
       "    </tr>\n",
       "  </thead>\n",
       "  <tbody>\n",
       "    <tr>\n",
       "      <td>0</td>\n",
       "      <td>Hull City</td>\n",
       "      <td>Leicester City</td>\n",
       "      <td>2</td>\n",
       "      <td>1</td>\n",
       "      <td>False</td>\n",
       "    </tr>\n",
       "    <tr>\n",
       "      <td>1</td>\n",
       "      <td>Crystal Palace</td>\n",
       "      <td>West Bromwich Albion</td>\n",
       "      <td>0</td>\n",
       "      <td>1</td>\n",
       "      <td>True</td>\n",
       "    </tr>\n",
       "    <tr>\n",
       "      <td>2</td>\n",
       "      <td>Everton</td>\n",
       "      <td>Tottenham Hotspur</td>\n",
       "      <td>1</td>\n",
       "      <td>1</td>\n",
       "      <td>False</td>\n",
       "    </tr>\n",
       "    <tr>\n",
       "      <td>3</td>\n",
       "      <td>Burnley</td>\n",
       "      <td>Swansea City</td>\n",
       "      <td>0</td>\n",
       "      <td>1</td>\n",
       "      <td>True</td>\n",
       "    </tr>\n",
       "    <tr>\n",
       "      <td>4</td>\n",
       "      <td>Southampton</td>\n",
       "      <td>Watford</td>\n",
       "      <td>1</td>\n",
       "      <td>1</td>\n",
       "      <td>False</td>\n",
       "    </tr>\n",
       "  </tbody>\n",
       "</table>\n",
       "</div>"
      ],
      "text/plain": [
       "            team1                 team2  score1  score2  away_win\n",
       "0       Hull City        Leicester City       2       1     False\n",
       "1  Crystal Palace  West Bromwich Albion       0       1      True\n",
       "2         Everton     Tottenham Hotspur       1       1     False\n",
       "3         Burnley          Swansea City       0       1      True\n",
       "4     Southampton               Watford       1       1     False"
      ]
     },
     "execution_count": 51,
     "metadata": {},
     "output_type": "execute_result"
    }
   ],
   "source": [
    "%%time\n",
    "udf_example_2 = current_premier.select(\"team1\", \"team2\", \"score1\", \"score2\")\\\n",
    "                               .withColumn(\"away_win\", away_win(col(\"score1\"), col(\"score2\")))\n",
    "udf_example_2.toPandas().head()"
   ]
  },
  {
   "cell_type": "markdown",
   "metadata": {},
   "source": [
    "It is still not significantly faster, but this is due to how small this dataset is. Let's create some random data and compare the effect of the Arrow optimization"
   ]
  },
  {
   "cell_type": "code",
   "execution_count": 52,
   "metadata": {},
   "outputs": [
    {
     "data": {
      "text/plain": [
       "1048576"
      ]
     },
     "execution_count": 52,
     "metadata": {},
     "output_type": "execute_result"
    }
   ],
   "source": [
    "from pyspark.sql.functions import rand\n",
    "\n",
    "df = spark.range(1 << 20).toDF(\"id\").withColumn(\"x\", rand()) \n",
    "# this is a large-ish random dataset, generated fully in the JVM. At least, largest that the match data!\n",
    "df.count()"
   ]
  },
  {
   "cell_type": "code",
   "execution_count": 53,
   "metadata": {},
   "outputs": [
    {
     "name": "stdout",
     "output_type": "stream",
     "text": [
      "CPU times: user 7.65 s, sys: 1.31 s, total: 8.96 s\n",
      "Wall time: 11.9 s\n"
     ]
    }
   ],
   "source": [
    "%%time\n",
    "spark.conf.set(\"spark.sql.execution.arrow.enabled\", \"false\")\n",
    "pandas_df = df.toPandas()"
   ]
  },
  {
   "cell_type": "markdown",
   "metadata": {},
   "source": [
    "On my run, this took `13.5s` wall time"
   ]
  },
  {
   "cell_type": "code",
   "execution_count": 54,
   "metadata": {},
   "outputs": [
    {
     "name": "stdout",
     "output_type": "stream",
     "text": [
      "CPU times: user 50 ms, sys: 40 ms, total: 90 ms\n",
      "Wall time: 1.09 s\n"
     ]
    }
   ],
   "source": [
    "%%time\n",
    "spark.conf.set(\"spark.sql.execution.arrow.enabled\", \"true\")\n",
    "pandas_df = df.toPandas()"
   ]
  },
  {
   "cell_type": "markdown",
   "metadata": {},
   "source": [
    "And this took `686ms` for a _20x speedup_"
   ]
  },
  {
   "cell_type": "markdown",
   "metadata": {},
   "source": [
    "We'd see similar speedups with using `pandas_udf`s, if our match dataset was larger."
   ]
  },
  {
   "cell_type": "code",
   "execution_count": 55,
   "metadata": {},
   "outputs": [
    {
     "name": "stdout",
     "output_type": "stream",
     "text": [
      "+---+------+------+\n",
      "| id|score1|score2|\n",
      "+---+------+------+\n",
      "|  0|     0|     1|\n",
      "|  1|     2|     0|\n",
      "|  2|     1|     0|\n",
      "|  3|     0|     0|\n",
      "|  4|     2|     0|\n",
      "+---+------+------+\n",
      "only showing top 5 rows\n",
      "\n"
     ]
    },
    {
     "data": {
      "text/plain": [
       "16777216"
      ]
     },
     "execution_count": 55,
     "metadata": {},
     "output_type": "execute_result"
    }
   ],
   "source": [
    "from pyspark.sql.functions import randn, floor, abs\n",
    "\n",
    "many_matches = spark.range(1 << 24).toDF(\"id\")\\\n",
    "                    .withColumn(\"score1\", floor(abs(randn())*2.5))\\\n",
    "                    .withColumn(\"score2\", floor(abs(randn())*1.5)) # We might as well make it more natural\n",
    "\n",
    "many_matches.show(5) #  Although it would look nicer with a toPandas().head(), this might make your session explode\n",
    "many_matches.count()"
   ]
  },
  {
   "cell_type": "code",
   "execution_count": 56,
   "metadata": {},
   "outputs": [],
   "source": [
    "from pyspark.sql.functions import desc, col"
   ]
  },
  {
   "cell_type": "code",
   "execution_count": 57,
   "metadata": {},
   "outputs": [],
   "source": [
    "spark.conf.set(\"spark.sql.execution.arrow.enabled\", \"false\")"
   ]
  },
  {
   "cell_type": "code",
   "execution_count": 58,
   "metadata": {},
   "outputs": [
    {
     "name": "stdout",
     "output_type": "stream",
     "text": [
      "+--------+------+------+--------+\n",
      "|      id|score1|score2|away_win|\n",
      "+--------+------+------+--------+\n",
      "|16777215|     0|     1|    true|\n",
      "|16777214|     0|     1|    true|\n",
      "|16777213|     1|     2|    true|\n",
      "|16777212|     5|     1|   false|\n",
      "|16777211|     1|     0|   false|\n",
      "|16777210|     0|     0|   false|\n",
      "|16777209|     2|     1|   false|\n",
      "|16777208|     4|     1|   false|\n",
      "|16777207|     4|     0|   false|\n",
      "|16777206|     1|     0|   false|\n",
      "|16777205|     0|     2|    true|\n",
      "|16777204|     3|     0|   false|\n",
      "|16777203|     0|     0|   false|\n",
      "|16777202|     0|     0|   false|\n",
      "|16777201|     1|     2|    true|\n",
      "|16777200|     0|     1|    true|\n",
      "|16777199|     5|     0|   false|\n",
      "|16777198|     0|     2|    true|\n",
      "|16777197|     1|     0|   false|\n",
      "|16777196|     0|     1|    true|\n",
      "+--------+------+------+--------+\n",
      "only showing top 20 rows\n",
      "\n",
      "CPU times: user 10 ms, sys: 10 ms, total: 20 ms\n",
      "Wall time: 55.1 s\n"
     ]
    },
    {
     "data": {
      "text/plain": [
       "16777216"
      ]
     },
     "execution_count": 58,
     "metadata": {},
     "output_type": "execute_result"
    }
   ],
   "source": [
    "%%time\n",
    "udf_example_no_pandas = many_matches.select(\"id\", \"score1\", \"score2\")\\\n",
    "                                    .withColumn(\"away_win\", away_win(col(\"score1\"), col(\"score2\")))\n",
    "udf_example_no_pandas.orderBy(desc(\"id\")).show() #  The orderBy is to prevent Spark from being too smart and optimising\n",
    "udf_example_no_pandas.count()"
   ]
  },
  {
   "cell_type": "code",
   "execution_count": 59,
   "metadata": {},
   "outputs": [],
   "source": [
    "spark.conf.set(\"spark.sql.execution.arrow.enabled\", \"true\")\n",
    "spark.conf.set(\"spark.sql.execution.arrow.maxRecordsPerBatch\", \"100000\")\n",
    "\n",
    "@pandas_udf(returnType=BooleanType())\n",
    "def away_win_pd(home_score, away_score):\n",
    "    return home_score < away_score"
   ]
  },
  {
   "cell_type": "code",
   "execution_count": 60,
   "metadata": {},
   "outputs": [
    {
     "name": "stdout",
     "output_type": "stream",
     "text": [
      "+--------+------+------+--------+\n",
      "|      id|score1|score2|away_win|\n",
      "+--------+------+------+--------+\n",
      "|16777215|     0|     1|    true|\n",
      "|16777214|     0|     1|    true|\n",
      "|16777213|     1|     2|    true|\n",
      "|16777212|     5|     1|   false|\n",
      "|16777211|     1|     0|   false|\n",
      "|16777210|     0|     0|   false|\n",
      "|16777209|     2|     1|   false|\n",
      "|16777208|     4|     1|   false|\n",
      "|16777207|     4|     0|   false|\n",
      "|16777206|     1|     0|   false|\n",
      "|16777205|     0|     2|    true|\n",
      "|16777204|     3|     0|   false|\n",
      "|16777203|     0|     0|   false|\n",
      "|16777202|     0|     0|   false|\n",
      "|16777201|     1|     2|    true|\n",
      "|16777200|     0|     1|    true|\n",
      "|16777199|     5|     0|   false|\n",
      "|16777198|     0|     2|    true|\n",
      "|16777197|     1|     0|   false|\n",
      "|16777196|     0|     1|    true|\n",
      "+--------+------+------+--------+\n",
      "only showing top 20 rows\n",
      "\n",
      "CPU times: user 10 ms, sys: 10 ms, total: 20 ms\n",
      "Wall time: 11.5 s\n"
     ]
    },
    {
     "data": {
      "text/plain": [
       "16777216"
      ]
     },
     "execution_count": 60,
     "metadata": {},
     "output_type": "execute_result"
    }
   ],
   "source": [
    "%%time\n",
    "udf_example_pandas = many_matches.select(\"id\", \"score1\", \"score2\")\\\n",
    "                                 .withColumn(\"away_win\", away_win_pd(col(\"score1\"), col(\"score2\")))\n",
    "udf_example_pandas.orderBy(desc(\"id\")).show()\n",
    "udf_example_pandas.count()"
   ]
  },
  {
   "cell_type": "markdown",
   "metadata": {},
   "source": [
    "Without Arrow and Pandas, this took around 35-40 seconds, vs 13-15 using Arrow."
   ]
  },
  {
   "cell_type": "code",
   "execution_count": 61,
   "metadata": {},
   "outputs": [
    {
     "name": "stdout",
     "output_type": "stream",
     "text": [
      "== Physical Plan ==\n",
      "*(2) Project [id#2637L, score1#2641L, score2#2644L, pythonUDF0#2730 AS away_win#2670]\n",
      "+- BatchEvalPython [away_win(score1#2641L, score2#2644L)], [id#2637L, score1#2641L, score2#2644L, pythonUDF0#2730]\n",
      "   +- *(1) Project [id#2637L, score1#2641L, FLOOR((abs(randn(-8244966035173394950)) * 1.5)) AS score2#2644L]\n",
      "      +- *(1) Project [id#2637L, FLOOR((abs(randn(-5461079002447256900)) * 2.5)) AS score1#2641L]\n",
      "         +- *(1) Range (0, 16777216, step=1, splits=2)\n"
     ]
    }
   ],
   "source": [
    "udf_example_no_pandas.explain()"
   ]
  },
  {
   "cell_type": "code",
   "execution_count": 62,
   "metadata": {},
   "outputs": [
    {
     "name": "stdout",
     "output_type": "stream",
     "text": [
      "== Physical Plan ==\n",
      "*(2) Project [id#2637L, score1#2641L, score2#2644L, pythonUDF0#2731 AS away_win#2702]\n",
      "+- ArrowEvalPython [away_win_pd(score1#2641L, score2#2644L)], [id#2637L, score1#2641L, score2#2644L, pythonUDF0#2731]\n",
      "   +- *(1) Project [id#2637L, score1#2641L, FLOOR((abs(randn(-8244966035173394950)) * 1.5)) AS score2#2644L]\n",
      "      +- *(1) Project [id#2637L, FLOOR((abs(randn(-5461079002447256900)) * 2.5)) AS score1#2641L]\n",
      "         +- *(1) Range (0, 16777216, step=1, splits=2)\n"
     ]
    }
   ],
   "source": [
    "udf_example_pandas.explain()"
   ]
  },
  {
   "cell_type": "markdown",
   "metadata": {},
   "source": [
    "As you can see, the only practical difference is `ArrowEvalPython` instead of `BatchEvalPython`"
   ]
  },
  {
   "cell_type": "markdown",
   "metadata": {},
   "source": [
    "# The history server\n",
    "\n",
    "If you are running locally (or in a dedicated cluster) you can access either master:4040 or master:18080 (or master:280888) to visit [Spark History Server](https://spark.apache.org/docs/latest/monitoring.html) where you can explore different tabs of information"
   ]
  },
  {
   "cell_type": "markdown",
   "metadata": {},
   "source": [
    "<img src=\"Images/JobsView.png\">"
   ]
  },
  {
   "cell_type": "markdown",
   "metadata": {},
   "source": [
    "<img src=\"Images/StagesView.png\">"
   ]
  },
  {
   "cell_type": "markdown",
   "metadata": {},
   "source": [
    "Here you can see two queries of the SQL tab expanded (do they look familiar?)"
   ]
  },
  {
   "cell_type": "markdown",
   "metadata": {},
   "source": [
    "<img src=\"Images/QueryPlan1.png\" width=300 style=\"float:left;\"> <img src=\"Images/QueryPlan2.png\" width=300>"
   ]
  },
  {
   "cell_type": "markdown",
   "metadata": {},
   "source": [
    "# Deployment and other tips"
   ]
  },
  {
   "cell_type": "markdown",
   "metadata": {},
   "source": [
    "## Launching jobs\n",
    "\n",
    "For both Scala Spark and PySpark, deployment of batch and streaming jobs is done via the [spark-submit script](https://spark.apache.org/docs/latest/submitting-applications.html). You will need a cluster somewhere, if you want to play locally with a cluster in docker you may be able to tweak [this project](https://github.com/rberenguel/spark_hadoop_kudu) I have in docker-compose, building a stack of HDFS, Spark and Kudu locally.\n",
    "\n",
    "## Testing\n",
    "\n",
    "Always write tests. Use pytest, or your preferred framework, together with a library like [spark-testing-base](https://github.com/holdenk/spark-testing-base/blob/master/python/sparktestingbase/test/helloworld_test.py).\n",
    "\n",
    "spark-testing-base basically handles creating and removing a Spark session when needed, otherwise you can create your own fixtures for pytest (I vastly prefer `pytest` as a testing framework in case it wasn't clear) with a fixture like this one (taken from [here](https://dev.to/diogoaurelio/getting-started-with-spark-part-4----unit-testing-26a5), if you want to see a `unittest` approach, see [here](https://blog.cambridgespark.com/unit-testing-with-pyspark-fb31671b1ad8) and [here](https://medium.com/albert-franzi/how-to-unittest-pyspark-udfs-e34044e6ab68))\n",
    "\n",
    "```python\n",
    "import pytest\n",
    "from pyspark.sql import SparkSession\n",
    "from pyspark import SparkContext, SparkConf\n",
    "import logging\n",
    "\n",
    "\n",
    "def quiet_py4j():\n",
    "    \"\"\" turn down spark logging for the test context \"\"\"\n",
    "    logger = logging.getLogger('py4j')\n",
    "    logger.setLevel(logging.WARN)\n",
    "\n",
    "\n",
    "@pytest.fixture(scope=\"session\")\n",
    "def spark_context(request):\n",
    "    \"\"\"\n",
    "        fixture for creating a spark session\n",
    "    Args:\n",
    "        request: pytest.FixtureRequest object\n",
    "    \"\"\"\n",
    "    conf = SparkConf() \\\n",
    "        .setMaster(\"local[2]\") \\\n",
    "        .setAppName(\"pytest-pyspark-local-testing\")\n",
    "    sc = SparkContext(conf=conf)\n",
    "    request.addfinalizer(lambda: sc.stop())\n",
    "    quiet_py4j()\n",
    "    return sc\n",
    "\n",
    "\n",
    "@pytest.fixture(scope=\"session\")\n",
    "def spark_session(request):\n",
    "    \"\"\"\n",
    "        fixture for creating a spark session\n",
    "    Args:\n",
    "        request: pytest.FixtureRequest object\n",
    "    \"\"\"\n",
    "    spark_conf = SparkConf() \\\n",
    "        .setMaster(\"local[2]\") \\\n",
    "        .setAppName(\"pytest-pyspark2.+-local-testing\")\n",
    "    spark = SparkSession.builder.config(conf=spark_conf).getOrCreate()\n",
    "    request.addfinalizer(lambda: spark.stop())\n",
    "    quiet_py4j()\n",
    "    return spark\n",
    "```\n",
    "\n",
    "Use a linting tool as well.\n",
    "\n",
    "## Code structure and naming\n",
    "\n",
    "Spark code is still Python code, mostly, so just use your usual Python common sense. Methods on PySpark sometimes follow Scala naming conventions instead (`camelCase`), if for some reason some method in your code looks better to you in `camelCase`, nobody will scream at you except `pylint`.\n",
    "\n",
    "## Debugging failing stuff\n",
    "\n",
    "- The history server is your friend. There, you can investigate out of memory issues, bad skew of the data and many other things. \n",
    "- Add logging where possible, logging is also your friend.\n",
    "- Most errors in Spark applications are either executor out of memory, driver out of memory or off-heap out of memory. Look up how to increase these parameters and tune your jobs. Once tuned to run, investigate _why_ you need so much.\n",
    "- The JVM stacktraces are not your friend, and you will need to learn to understand them. To train yourself, break spark jobs frequently in testing and locally. \n",
    "\n",
    "### Enjoy!"
   ]
  },
  {
   "cell_type": "code",
   "execution_count": null,
   "metadata": {},
   "outputs": [],
   "source": []
  }
 ],
 "metadata": {
  "kernelspec": {
   "display_name": "Python 3",
   "language": "python",
   "name": "python3"
  },
  "language_info": {
   "codemirror_mode": {
    "name": "ipython",
    "version": 3
   },
   "file_extension": ".py",
   "mimetype": "text/x-python",
   "name": "python",
   "nbconvert_exporter": "python",
   "pygments_lexer": "ipython3",
   "version": "3.7.3"
  }
 },
 "nbformat": 4,
 "nbformat_minor": 2
}
